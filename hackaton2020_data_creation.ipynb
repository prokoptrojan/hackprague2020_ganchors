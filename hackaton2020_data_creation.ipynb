{
  "nbformat": 4,
  "nbformat_minor": 0,
  "metadata": {
    "colab": {
      "name": "hackaton2020.ipynb",
      "provenance": [],
      "mount_file_id": "1rZX7MEV_40v9-2TLWZY92fFH402RAIAc",
      "authorship_tag": "ABX9TyMnKKIt5AXMVxj4xi0N0Vw3",
      "include_colab_link": true
    },
    "kernelspec": {
      "name": "python3",
      "display_name": "Python 3"
    }
  },
  "cells": [
    {
      "cell_type": "markdown",
      "metadata": {
        "id": "view-in-github",
        "colab_type": "text"
      },
      "source": [
        "<a href=\"https://colab.research.google.com/github/roman-ruzica/hackprague2020_ganchors/blob/main/hackaton2020_data_creation.ipynb\" target=\"_parent\"><img src=\"https://colab.research.google.com/assets/colab-badge.svg\" alt=\"Open In Colab\"/></a>"
      ]
    },
    {
      "cell_type": "code",
      "metadata": {
        "id": "v46TCoQa8xoq",
        "outputId": "1ca3979e-0a1c-4542-d7d6-be998ef636f9",
        "colab": {
          "base_uri": "https://localhost:8080/"
        }
      },
      "source": [
        "import pandas as pd\n",
        "import numpy as np\n",
        "import sklearn as sklearn\n",
        "import statsmodels.api as sm\n",
        "import calendar\n",
        "from joblib import dump, load\n",
        "import datetime"
      ],
      "execution_count": null,
      "outputs": [
        {
          "output_type": "stream",
          "text": [
            "/usr/local/lib/python3.6/dist-packages/statsmodels/tools/_testing.py:19: FutureWarning: pandas.util.testing is deprecated. Use the functions in the public API at pandas.testing instead.\n",
            "  import pandas.util.testing as tm\n"
          ],
          "name": "stderr"
        }
      ]
    },
    {
      "cell_type": "code",
      "metadata": {
        "id": "3hoHpVgS9EqK",
        "outputId": "d5e75ddd-bcc7-4163-877b-869bc95d4ace",
        "colab": {
          "base_uri": "https://localhost:8080/"
        }
      },
      "source": [
        "data = pd.read_csv(\"/content/drive/My Drive/CS_HACKATHON/hackprague_txs(1).csv\", sep = \";\")"
      ],
      "execution_count": null,
      "outputs": [
        {
          "output_type": "stream",
          "text": [
            "/usr/local/lib/python3.6/dist-packages/IPython/core/interactiveshell.py:2718: DtypeWarning:\n",
            "\n",
            "Columns (8,12,13) have mixed types.Specify dtype option on import or set low_memory=False.\n",
            "\n"
          ],
          "name": "stderr"
        }
      ]
    },
    {
      "cell_type": "code",
      "metadata": {
        "id": "WRvOeLiC9sdb"
      },
      "source": [
        "## create yearmonth column just in case\n",
        "data['year'] = pd.DatetimeIndex(data['tx_date']).year\n",
        "data['month'] = pd.DatetimeIndex(data['tx_date']).month\n",
        "data['day'] = 1\n",
        "data[\"yearmonth\"] = pd.to_datetime(data[[\"year\", \"month\", \"day\"]])"
      ],
      "execution_count": null,
      "outputs": []
    },
    {
      "cell_type": "code",
      "metadata": {
        "id": "JXAWJGle9zrF",
        "outputId": "61059c28-6c2e-44d5-b8f5-fa254d107860",
        "colab": {
          "base_uri": "https://localhost:8080/"
        }
      },
      "source": [
        "## only take the full months which are not in the future\n",
        "\n",
        "data2 = data[data['yearmonth'] > datetime.datetime(2020,4,15)]\n",
        "data2 = data2[data['yearmonth'] < datetime.datetime(2020,10,20)]"
      ],
      "execution_count": null,
      "outputs": [
        {
          "output_type": "stream",
          "text": [
            "/usr/local/lib/python3.6/dist-packages/ipykernel_launcher.py:4: UserWarning:\n",
            "\n",
            "Boolean Series key will be reindexed to match DataFrame index.\n",
            "\n"
          ],
          "name": "stderr"
        }
      ]
    },
    {
      "cell_type": "code",
      "metadata": {
        "id": "L5o7fYWQCIHG"
      },
      "source": [
        "data_small = data[[\"client_id\", \"region\"]].groupby([\"client_id\"]).agg(pd.Series.mode)\n"
      ],
      "execution_count": null,
      "outputs": []
    },
    {
      "cell_type": "code",
      "metadata": {
        "id": "o80lsfpSCQSy"
      },
      "source": [
        "data_small2 = data_small.reset_index().rename({\"region\":\"client_region\"}, axis =1)"
      ],
      "execution_count": null,
      "outputs": []
    },
    {
      "cell_type": "code",
      "metadata": {
        "id": "COSZ0FjQGhb9"
      },
      "source": [
        "data_small = data_small.reset_index()"
      ],
      "execution_count": null,
      "outputs": []
    },
    {
      "cell_type": "code",
      "metadata": {
        "id": "LSyFS6Yq_bVk"
      },
      "source": [
        "pop_table = pd.read_csv(\"/content/drive/My Drive/CS_HACKATHON/pop_table - Sheet1.csv\", sep = \",\")"
      ],
      "execution_count": null,
      "outputs": []
    },
    {
      "cell_type": "code",
      "metadata": {
        "id": "icrVyKMpHPjg"
      },
      "source": [
        "pop_table[\"region\"] = pop_table[\"region\"].astype(\"category\")"
      ],
      "execution_count": null,
      "outputs": []
    },
    {
      "cell_type": "code",
      "metadata": {
        "id": "FrmRyZWgImUZ"
      },
      "source": [
        "data_small[\"region\"] = pd.Series(data_small[\"region\"])"
      ],
      "execution_count": null,
      "outputs": []
    },
    {
      "cell_type": "code",
      "metadata": {
        "id": "_pALY9-uJIp9"
      },
      "source": [
        "data_small[:,[\"region\"]]"
      ],
      "execution_count": null,
      "outputs": []
    },
    {
      "cell_type": "code",
      "metadata": {
        "id": "GlA_JS5uM6p1"
      },
      "source": [
        "data_small.to_csv(\"data_small_mapping.csv\", index = False)"
      ],
      "execution_count": null,
      "outputs": []
    },
    {
      "cell_type": "code",
      "metadata": {
        "id": "ks2I7hONNBI7"
      },
      "source": [
        "data_small_read = pd.read_csv(\"data_small_mapping.csv\")"
      ],
      "execution_count": null,
      "outputs": []
    },
    {
      "cell_type": "code",
      "metadata": {
        "id": "wkPQkDXeF2fB"
      },
      "source": [
        "town_mapping = data_small_read\\\n",
        ".merge(pop_table,how = 'inner', on = [\"region\"])"
      ],
      "execution_count": null,
      "outputs": []
    },
    {
      "cell_type": "code",
      "metadata": {
        "id": "dRtsUzH_-csY"
      },
      "source": [
        "data3 = pd.merge(data2, town_mapping, how = \"inner\", on = \"client_id\")"
      ],
      "execution_count": null,
      "outputs": []
    },
    {
      "cell_type": "code",
      "metadata": {
        "id": "PFacC_LE9-2l"
      },
      "source": [
        "data2[\"client_age\"] = 2020 - data2[\"client_year_of_birth\"]"
      ],
      "execution_count": null,
      "outputs": []
    },
    {
      "cell_type": "code",
      "metadata": {
        "id": "jYs7Kodf-b9c"
      },
      "source": [
        "data3 = data3.rename({\"region_y\":\"client_home_region\"}, axis =  1)"
      ],
      "execution_count": null,
      "outputs": []
    },
    {
      "cell_type": "code",
      "metadata": {
        "id": "8TSicarHTToJ"
      },
      "source": [
        "data3.to_csv(\"enriched_data2.csv\")"
      ],
      "execution_count": null,
      "outputs": []
    },
    {
      "cell_type": "code",
      "metadata": {
        "id": "TMlp3gffWHAH"
      },
      "source": [
        "data3 = pd.read_csv(\"/content/drive/My Drive/CS_HACKATHON/enriched_data2.csv\")"
      ],
      "execution_count": null,
      "outputs": []
    },
    {
      "cell_type": "code",
      "metadata": {
        "id": "q8fX4a66VcR9"
      },
      "source": [
        "client_table = data3.groupby([\"client_id\", \"population\", \"client_home_region\", \"client_gender\", \"merchant_category\", \"client_year_of_birth\"]).agg({\"amount\":\"sum\"}).reset_index()\n",
        "\n",
        "client_table2 = client_table.groupby([\"client_id\", \"client_gender\", \"population\", \"client_home_region\", \"client_year_of_birth\"]).agg({\"amount\":\"sum\"})\\\n",
        ".rename({\"amount\":\"tot_m_amount\"}).reset_index()\n",
        "client_table_tot = client_table.merge(client_table2,on = [\"client_id\", \"population\", \"client_home_region\", \"client_gender\", \"client_year_of_birth\"])\n",
        "client_table_tot[\"client_home_region\"] = client_table_tot[\"client_home_region\"].astype('category')\n",
        "client_table_tot[\"client_home_region_cat\"] = client_table_tot[\"client_home_region\"].cat.codes\n",
        "client_table_tot.head()\n",
        "client_table_tot[[\"gen_dummy\", \"gd2\"]] = pd.get_dummies(client_table_tot[\"client_gender\"])"
      ],
      "execution_count": null,
      "outputs": []
    },
    {
      "cell_type": "code",
      "metadata": {
        "id": "eCsJzJYHXNJ9"
      },
      "source": [
        "client_table_tot.to_csv(\"/content/drive/My Drive/CS_HACKATHON/model_data.csv\")\n",
        "#client_table_tot = pd.read_csv(\"/content/drive/My Drive/CS_HACKATHON/model_data2.csv\")"
      ],
      "execution_count": null,
      "outputs": []
    }
  ]
}
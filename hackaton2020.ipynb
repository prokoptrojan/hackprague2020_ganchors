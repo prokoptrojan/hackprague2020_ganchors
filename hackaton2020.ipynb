{
  "nbformat": 4,
  "nbformat_minor": 0,
  "metadata": {
    "colab": {
      "name": "hackaton2020.ipynb",
      "provenance": [],
      "mount_file_id": "1rZX7MEV_40v9-2TLWZY92fFH402RAIAc",
      "authorship_tag": "ABX9TyP50uKQBLn8iOzZZW+Jrzpb",
      "include_colab_link": true
    },
    "kernelspec": {
      "name": "python3",
      "display_name": "Python 3"
    }
  },
  "cells": [
    {
      "cell_type": "markdown",
      "metadata": {
        "id": "view-in-github",
        "colab_type": "text"
      },
      "source": [
        "<a href=\"https://colab.research.google.com/github/roman-ruzica/hackprague2020_ganchors/blob/main/hackaton2020.ipynb\" target=\"_parent\"><img src=\"https://colab.research.google.com/assets/colab-badge.svg\" alt=\"Open In Colab\"/></a>"
      ]
    },
    {
      "cell_type": "code",
      "metadata": {
        "id": "v46TCoQa8xoq",
        "outputId": "1ca3979e-0a1c-4542-d7d6-be998ef636f9",
        "colab": {
          "base_uri": "https://localhost:8080/"
        }
      },
      "source": [
        "import pandas as pd\n",
        "import numpy as np\n",
        "import sklearn as sklearn\n",
        "import statsmodels.api as sm\n",
        "import calendar\n",
        "from joblib import dump, load\n",
        "import datetime"
      ],
      "execution_count": 1,
      "outputs": [
        {
          "output_type": "stream",
          "text": [
            "/usr/local/lib/python3.6/dist-packages/statsmodels/tools/_testing.py:19: FutureWarning: pandas.util.testing is deprecated. Use the functions in the public API at pandas.testing instead.\n",
            "  import pandas.util.testing as tm\n"
          ],
          "name": "stderr"
        }
      ]
    },
    {
      "cell_type": "code",
      "metadata": {
        "id": "v6qoUJstb_84",
        "outputId": "6cadc15a-0d7c-4adc-bdb5-d70e26cbbbcb",
        "colab": {
          "base_uri": "https://localhost:8080/"
        }
      },
      "source": [
        "# Make numpy printouts easier to read.\n",
        "np.set_printoptions(precision=3, suppress=True)\n",
        "\n",
        "import tensorflow as tf\n",
        "\n",
        "from tensorflow import keras\n",
        "from tensorflow.keras import layers\n",
        "from tensorflow.keras.layers.experimental import preprocessing\n",
        "\n",
        "print(tf.__version__)\n"
      ],
      "execution_count": 2,
      "outputs": [
        {
          "output_type": "stream",
          "text": [
            "2.3.0\n"
          ],
          "name": "stdout"
        }
      ]
    },
    {
      "cell_type": "code",
      "metadata": {
        "id": "H1EctaFl99YK"
      },
      "source": [
        ""
      ],
      "execution_count": 4,
      "outputs": []
    },
    {
      "cell_type": "code",
      "metadata": {
        "id": "3hoHpVgS9EqK",
        "outputId": "d5e75ddd-bcc7-4163-877b-869bc95d4ace",
        "colab": {
          "base_uri": "https://localhost:8080/"
        }
      },
      "source": [
        "data = pd.read_csv(\"/content/drive/My Drive/CS_HACKATHON/hackprague_txs(1).csv\", sep = \";\")"
      ],
      "execution_count": 3,
      "outputs": [
        {
          "output_type": "stream",
          "text": [
            "/usr/local/lib/python3.6/dist-packages/IPython/core/interactiveshell.py:2718: DtypeWarning:\n",
            "\n",
            "Columns (8,12,13) have mixed types.Specify dtype option on import or set low_memory=False.\n",
            "\n"
          ],
          "name": "stderr"
        }
      ]
    },
    {
      "cell_type": "code",
      "metadata": {
        "id": "WRvOeLiC9sdb"
      },
      "source": [
        "## create yearmonth column just in case\n",
        "data['year'] = pd.DatetimeIndex(data['tx_date']).year\n",
        "data['month'] = pd.DatetimeIndex(data['tx_date']).month\n",
        "data['day'] = 1\n",
        "data[\"yearmonth\"] = pd.to_datetime(data[[\"year\", \"month\", \"day\"]])"
      ],
      "execution_count": 7,
      "outputs": []
    },
    {
      "cell_type": "code",
      "metadata": {
        "id": "JXAWJGle9zrF",
        "outputId": "61059c28-6c2e-44d5-b8f5-fa254d107860",
        "colab": {
          "base_uri": "https://localhost:8080/"
        }
      },
      "source": [
        "## only take the full months which are not in the future\n",
        "\n",
        "data2 = data[data['yearmonth'] > datetime.datetime(2020,4,15)]\n",
        "data2 = data2[data['yearmonth'] < datetime.datetime(2020,10,20)]"
      ],
      "execution_count": 9,
      "outputs": [
        {
          "output_type": "stream",
          "text": [
            "/usr/local/lib/python3.6/dist-packages/ipykernel_launcher.py:4: UserWarning:\n",
            "\n",
            "Boolean Series key will be reindexed to match DataFrame index.\n",
            "\n"
          ],
          "name": "stderr"
        }
      ]
    },
    {
      "cell_type": "code",
      "metadata": {
        "id": "L5o7fYWQCIHG"
      },
      "source": [
        "data_small = data[[\"client_id\", \"region\"]].groupby([\"client_id\"]).agg(pd.Series.mode)\n"
      ],
      "execution_count": 22,
      "outputs": []
    },
    {
      "cell_type": "code",
      "metadata": {
        "id": "o80lsfpSCQSy"
      },
      "source": [
        "data_small2 = data_small.reset_index().rename({\"region\":\"client_region\"}, axis =1)"
      ],
      "execution_count": 36,
      "outputs": []
    },
    {
      "cell_type": "code",
      "metadata": {
        "id": "COSZ0FjQGhb9"
      },
      "source": [
        "data_small = data_small.reset_index()"
      ],
      "execution_count": 42,
      "outputs": []
    },
    {
      "cell_type": "code",
      "metadata": {
        "id": "LSyFS6Yq_bVk"
      },
      "source": [
        "pop_table = pd.read_csv(\"/content/drive/My Drive/CS_HACKATHON/pop_table - Sheet1.csv\", sep = \",\")"
      ],
      "execution_count": 47,
      "outputs": []
    },
    {
      "cell_type": "code",
      "metadata": {
        "id": "icrVyKMpHPjg"
      },
      "source": [
        "pop_table[\"region\"] = pop_table[\"region\"].astype(\"category\")"
      ],
      "execution_count": 65,
      "outputs": []
    },
    {
      "cell_type": "code",
      "metadata": {
        "id": "FrmRyZWgImUZ"
      },
      "source": [
        "data_small[\"region\"] = pd.Series(data_small[\"region\"])"
      ],
      "execution_count": 75,
      "outputs": []
    },
    {
      "cell_type": "code",
      "metadata": {
        "id": "kVWPnN40MQX2",
        "outputId": "8698f017-89b5-4215-9354-7c6531874ba0",
        "colab": {
          "base_uri": "https://localhost:8080/"
        }
      },
      "source": [
        "data_small.dtypes"
      ],
      "execution_count": 77,
      "outputs": [
        {
          "output_type": "execute_result",
          "data": {
            "text/plain": [
              "client_id     int64\n",
              "region       object\n",
              "dtype: object"
            ]
          },
          "metadata": {
            "tags": []
          },
          "execution_count": 77
        }
      ]
    },
    {
      "cell_type": "code",
      "metadata": {
        "id": "_pALY9-uJIp9"
      },
      "source": [
        "data_small[:,[\"region\"]]"
      ],
      "execution_count": null,
      "outputs": []
    },
    {
      "cell_type": "code",
      "metadata": {
        "id": "GlA_JS5uM6p1"
      },
      "source": [
        "data_small.to_csv(\"data_small_mapping.csv\", index = False)"
      ],
      "execution_count": 82,
      "outputs": []
    },
    {
      "cell_type": "code",
      "metadata": {
        "id": "ks2I7hONNBI7"
      },
      "source": [
        "data_small_read = pd.read_csv(\"data_small_mapping.csv\")"
      ],
      "execution_count": 86,
      "outputs": []
    },
    {
      "cell_type": "code",
      "metadata": {
        "id": "OQHKtyBMNIIZ",
        "outputId": "5c75092b-59ee-42f2-8b40-2247d83f2c9e",
        "colab": {
          "base_uri": "https://localhost:8080/",
          "height": 424
        }
      },
      "source": [
        "data_small_read"
      ],
      "execution_count": 87,
      "outputs": [
        {
          "output_type": "execute_result",
          "data": {
            "text/html": [
              "<div>\n",
              "<style scoped>\n",
              "    .dataframe tbody tr th:only-of-type {\n",
              "        vertical-align: middle;\n",
              "    }\n",
              "\n",
              "    .dataframe tbody tr th {\n",
              "        vertical-align: top;\n",
              "    }\n",
              "\n",
              "    .dataframe thead th {\n",
              "        text-align: right;\n",
              "    }\n",
              "</style>\n",
              "<table border=\"1\" class=\"dataframe\">\n",
              "  <thead>\n",
              "    <tr style=\"text-align: right;\">\n",
              "      <th></th>\n",
              "      <th>client_id</th>\n",
              "      <th>region</th>\n",
              "    </tr>\n",
              "  </thead>\n",
              "  <tbody>\n",
              "    <tr>\n",
              "      <th>0</th>\n",
              "      <td>27</td>\n",
              "      <td>Olomouc</td>\n",
              "    </tr>\n",
              "    <tr>\n",
              "      <th>1</th>\n",
              "      <td>28</td>\n",
              "      <td>Ostrava-město</td>\n",
              "    </tr>\n",
              "    <tr>\n",
              "      <th>2</th>\n",
              "      <td>30</td>\n",
              "      <td>Beroun</td>\n",
              "    </tr>\n",
              "    <tr>\n",
              "      <th>3</th>\n",
              "      <td>33</td>\n",
              "      <td>Hlavní město Praha</td>\n",
              "    </tr>\n",
              "    <tr>\n",
              "      <th>4</th>\n",
              "      <td>46</td>\n",
              "      <td>Hlavní město Praha</td>\n",
              "    </tr>\n",
              "    <tr>\n",
              "      <th>...</th>\n",
              "      <td>...</td>\n",
              "      <td>...</td>\n",
              "    </tr>\n",
              "    <tr>\n",
              "      <th>49995</th>\n",
              "      <td>200964</td>\n",
              "      <td>Hradec Králové</td>\n",
              "    </tr>\n",
              "    <tr>\n",
              "      <th>49996</th>\n",
              "      <td>200977</td>\n",
              "      <td>Kladno</td>\n",
              "    </tr>\n",
              "    <tr>\n",
              "      <th>49997</th>\n",
              "      <td>200993</td>\n",
              "      <td>Plzeň-sever</td>\n",
              "    </tr>\n",
              "    <tr>\n",
              "      <th>49998</th>\n",
              "      <td>200995</td>\n",
              "      <td>Hlavní město Praha</td>\n",
              "    </tr>\n",
              "    <tr>\n",
              "      <th>49999</th>\n",
              "      <td>201007</td>\n",
              "      <td>Karlovy Vary</td>\n",
              "    </tr>\n",
              "  </tbody>\n",
              "</table>\n",
              "<p>50000 rows × 2 columns</p>\n",
              "</div>"
            ],
            "text/plain": [
              "       client_id              region\n",
              "0             27             Olomouc\n",
              "1             28       Ostrava-město\n",
              "2             30              Beroun\n",
              "3             33  Hlavní město Praha\n",
              "4             46  Hlavní město Praha\n",
              "...          ...                 ...\n",
              "49995     200964      Hradec Králové\n",
              "49996     200977              Kladno\n",
              "49997     200993         Plzeň-sever\n",
              "49998     200995  Hlavní město Praha\n",
              "49999     201007        Karlovy Vary\n",
              "\n",
              "[50000 rows x 2 columns]"
            ]
          },
          "metadata": {
            "tags": []
          },
          "execution_count": 87
        }
      ]
    },
    {
      "cell_type": "code",
      "metadata": {
        "id": "zU_y6WySIMTM",
        "outputId": "197b61c1-dcb2-4654-a54a-a2130d04b3f4",
        "colab": {
          "base_uri": "https://localhost:8080/"
        }
      },
      "source": [
        "len(data_small.columns)\n",
        "data_small.dtypes"
      ],
      "execution_count": 64,
      "outputs": [
        {
          "output_type": "execute_result",
          "data": {
            "text/plain": [
              "client_id     int64\n",
              "region       object\n",
              "dtype: object"
            ]
          },
          "metadata": {
            "tags": []
          },
          "execution_count": 64
        }
      ]
    },
    {
      "cell_type": "code",
      "metadata": {
        "id": "invU-3m4HbBR",
        "outputId": "d7d00b62-a101-40e6-9336-792fff023095",
        "colab": {
          "base_uri": "https://localhost:8080/"
        }
      },
      "source": [
        "data_small_read.client_id.value_counts().sort_values()"
      ],
      "execution_count": 102,
      "outputs": [
        {
          "output_type": "execute_result",
          "data": {
            "text/plain": [
              "133204    1\n",
              "123968    1\n",
              "100335    1\n",
              "75771     1\n",
              "77818     1\n",
              "         ..\n",
              "81928     1\n",
              "108665    1\n",
              "12294     1\n",
              "4194      1\n",
              "65536     1\n",
              "Name: client_id, Length: 50000, dtype: int64"
            ]
          },
          "metadata": {
            "tags": []
          },
          "execution_count": 102
        }
      ]
    },
    {
      "cell_type": "code",
      "metadata": {
        "id": "wkPQkDXeF2fB"
      },
      "source": [
        "town_mapping = data_small_read\\\n",
        ".merge(pop_table,how = 'inner', on = [\"region\"])"
      ],
      "execution_count": 89,
      "outputs": []
    },
    {
      "cell_type": "code",
      "metadata": {
        "id": "B9SaFMOsOcA7"
      },
      "source": [
        "key_diff = set(town_mapping.region).difference(data_small_read.region)\n",
        "where_diff = town_mapping.region.isin(key_diff)"
      ],
      "execution_count": 95,
      "outputs": []
    },
    {
      "cell_type": "code",
      "metadata": {
        "id": "wBVKzJ1GOtNd"
      },
      "source": [
        "town_mapping = data_small_read\n"
      ],
      "execution_count": null,
      "outputs": []
    },
    {
      "cell_type": "code",
      "metadata": {
        "id": "sZ9ZUtl7ONql"
      },
      "source": [
        "\n",
        "outer_join = data_small_read[[\"region\"]].merge(pop_table[[\"region\"]], how = 'outer',indicator = True)\n",
        "\n",
        "anti_join = outer_join[~(outer_join._merge == 'both')].drop('_merge', axis = 1)"
      ],
      "execution_count": 107,
      "outputs": []
    },
    {
      "cell_type": "code",
      "metadata": {
        "id": "X43zZcvMQfNY"
      },
      "source": [
        "anti_join.to_csv(\"fidgety_customers.csv\", index = False)"
      ],
      "execution_count": 111,
      "outputs": []
    },
    {
      "cell_type": "code",
      "metadata": {
        "id": "6Ar6Xfe1NYZC",
        "outputId": "f654233f-6f41-46ef-aed1-4b5499f7bd6a",
        "colab": {
          "base_uri": "https://localhost:8080/"
        }
      },
      "source": [
        "len(data_small_read.index)"
      ],
      "execution_count": 92,
      "outputs": [
        {
          "output_type": "execute_result",
          "data": {
            "text/plain": [
              "50000"
            ]
          },
          "metadata": {
            "tags": []
          },
          "execution_count": 92
        }
      ]
    },
    {
      "cell_type": "code",
      "metadata": {
        "id": "poHBWhBfCCdB",
        "outputId": "c3e61cd8-39de-4628-e9f3-f46adeef810e",
        "colab": {
          "base_uri": "https://localhost:8080/"
        }
      },
      "source": [
        "len(town_mapping.index)"
      ],
      "execution_count": 91,
      "outputs": [
        {
          "output_type": "execute_result",
          "data": {
            "text/plain": [
              "49911"
            ]
          },
          "metadata": {
            "tags": []
          },
          "execution_count": 91
        }
      ]
    },
    {
      "cell_type": "code",
      "metadata": {
        "id": "qKLWQZmGRHmD",
        "outputId": "0a5a5ef2-360d-4938-e996-2b9757364148",
        "colab": {
          "base_uri": "https://localhost:8080/",
          "height": 325
        }
      },
      "source": [
        "anti_join_list = anti_join.iloc[:,].tolist()"
      ],
      "execution_count": 121,
      "outputs": [
        {
          "output_type": "error",
          "ename": "IndexError",
          "evalue": "ignored",
          "traceback": [
            "\u001b[0;31m---------------------------------------------------------------------------\u001b[0m",
            "\u001b[0;31mIndexError\u001b[0m                                Traceback (most recent call last)",
            "\u001b[0;32m<ipython-input-121-2c09f86d8027>\u001b[0m in \u001b[0;36m<module>\u001b[0;34m()\u001b[0m\n\u001b[0;32m----> 1\u001b[0;31m \u001b[0manti_join_list\u001b[0m \u001b[0;34m=\u001b[0m \u001b[0manti_join\u001b[0m\u001b[0;34m.\u001b[0m\u001b[0miloc\u001b[0m\u001b[0;34m[\u001b[0m\u001b[0;34m:\u001b[0m\u001b[0;34m,\u001b[0m\u001b[0;36m1\u001b[0m\u001b[0;34m]\u001b[0m\u001b[0;34m.\u001b[0m\u001b[0mtolist\u001b[0m\u001b[0;34m(\u001b[0m\u001b[0;34m)\u001b[0m\u001b[0;34m\u001b[0m\u001b[0;34m\u001b[0m\u001b[0m\n\u001b[0m",
            "\u001b[0;32m/usr/local/lib/python3.6/dist-packages/pandas/core/indexing.py\u001b[0m in \u001b[0;36m__getitem__\u001b[0;34m(self, key)\u001b[0m\n\u001b[1;32m    871\u001b[0m                     \u001b[0;31m# AttributeError for IntervalTree get_value\u001b[0m\u001b[0;34m\u001b[0m\u001b[0;34m\u001b[0m\u001b[0;34m\u001b[0m\u001b[0m\n\u001b[1;32m    872\u001b[0m                     \u001b[0;32mpass\u001b[0m\u001b[0;34m\u001b[0m\u001b[0;34m\u001b[0m\u001b[0m\n\u001b[0;32m--> 873\u001b[0;31m             \u001b[0;32mreturn\u001b[0m \u001b[0mself\u001b[0m\u001b[0;34m.\u001b[0m\u001b[0m_getitem_tuple\u001b[0m\u001b[0;34m(\u001b[0m\u001b[0mkey\u001b[0m\u001b[0;34m)\u001b[0m\u001b[0;34m\u001b[0m\u001b[0;34m\u001b[0m\u001b[0m\n\u001b[0m\u001b[1;32m    874\u001b[0m         \u001b[0;32melse\u001b[0m\u001b[0;34m:\u001b[0m\u001b[0;34m\u001b[0m\u001b[0;34m\u001b[0m\u001b[0m\n\u001b[1;32m    875\u001b[0m             \u001b[0;31m# we by definition only have the 0th axis\u001b[0m\u001b[0;34m\u001b[0m\u001b[0;34m\u001b[0m\u001b[0;34m\u001b[0m\u001b[0m\n",
            "\u001b[0;32m/usr/local/lib/python3.6/dist-packages/pandas/core/indexing.py\u001b[0m in \u001b[0;36m_getitem_tuple\u001b[0;34m(self, tup)\u001b[0m\n\u001b[1;32m   1441\u001b[0m     \u001b[0;32mdef\u001b[0m \u001b[0m_getitem_tuple\u001b[0m\u001b[0;34m(\u001b[0m\u001b[0mself\u001b[0m\u001b[0;34m,\u001b[0m \u001b[0mtup\u001b[0m\u001b[0;34m:\u001b[0m \u001b[0mTuple\u001b[0m\u001b[0;34m)\u001b[0m\u001b[0;34m:\u001b[0m\u001b[0;34m\u001b[0m\u001b[0;34m\u001b[0m\u001b[0m\n\u001b[1;32m   1442\u001b[0m \u001b[0;34m\u001b[0m\u001b[0m\n\u001b[0;32m-> 1443\u001b[0;31m         \u001b[0mself\u001b[0m\u001b[0;34m.\u001b[0m\u001b[0m_has_valid_tuple\u001b[0m\u001b[0;34m(\u001b[0m\u001b[0mtup\u001b[0m\u001b[0;34m)\u001b[0m\u001b[0;34m\u001b[0m\u001b[0;34m\u001b[0m\u001b[0m\n\u001b[0m\u001b[1;32m   1444\u001b[0m         \u001b[0;32mtry\u001b[0m\u001b[0;34m:\u001b[0m\u001b[0;34m\u001b[0m\u001b[0;34m\u001b[0m\u001b[0m\n\u001b[1;32m   1445\u001b[0m             \u001b[0;32mreturn\u001b[0m \u001b[0mself\u001b[0m\u001b[0;34m.\u001b[0m\u001b[0m_getitem_lowerdim\u001b[0m\u001b[0;34m(\u001b[0m\u001b[0mtup\u001b[0m\u001b[0;34m)\u001b[0m\u001b[0;34m\u001b[0m\u001b[0;34m\u001b[0m\u001b[0m\n",
            "\u001b[0;32m/usr/local/lib/python3.6/dist-packages/pandas/core/indexing.py\u001b[0m in \u001b[0;36m_has_valid_tuple\u001b[0;34m(self, key)\u001b[0m\n\u001b[1;32m    700\u001b[0m                 \u001b[0;32mraise\u001b[0m \u001b[0mIndexingError\u001b[0m\u001b[0;34m(\u001b[0m\u001b[0;34m\"Too many indexers\"\u001b[0m\u001b[0;34m)\u001b[0m\u001b[0;34m\u001b[0m\u001b[0;34m\u001b[0m\u001b[0m\n\u001b[1;32m    701\u001b[0m             \u001b[0;32mtry\u001b[0m\u001b[0;34m:\u001b[0m\u001b[0;34m\u001b[0m\u001b[0;34m\u001b[0m\u001b[0m\n\u001b[0;32m--> 702\u001b[0;31m                 \u001b[0mself\u001b[0m\u001b[0;34m.\u001b[0m\u001b[0m_validate_key\u001b[0m\u001b[0;34m(\u001b[0m\u001b[0mk\u001b[0m\u001b[0;34m,\u001b[0m \u001b[0mi\u001b[0m\u001b[0;34m)\u001b[0m\u001b[0;34m\u001b[0m\u001b[0;34m\u001b[0m\u001b[0m\n\u001b[0m\u001b[1;32m    703\u001b[0m             \u001b[0;32mexcept\u001b[0m \u001b[0mValueError\u001b[0m \u001b[0;32mas\u001b[0m \u001b[0merr\u001b[0m\u001b[0;34m:\u001b[0m\u001b[0;34m\u001b[0m\u001b[0;34m\u001b[0m\u001b[0m\n\u001b[1;32m    704\u001b[0m                 raise ValueError(\n",
            "\u001b[0;32m/usr/local/lib/python3.6/dist-packages/pandas/core/indexing.py\u001b[0m in \u001b[0;36m_validate_key\u001b[0;34m(self, key, axis)\u001b[0m\n\u001b[1;32m   1350\u001b[0m             \u001b[0;32mreturn\u001b[0m\u001b[0;34m\u001b[0m\u001b[0;34m\u001b[0m\u001b[0m\n\u001b[1;32m   1351\u001b[0m         \u001b[0;32melif\u001b[0m \u001b[0mis_integer\u001b[0m\u001b[0;34m(\u001b[0m\u001b[0mkey\u001b[0m\u001b[0;34m)\u001b[0m\u001b[0;34m:\u001b[0m\u001b[0;34m\u001b[0m\u001b[0;34m\u001b[0m\u001b[0m\n\u001b[0;32m-> 1352\u001b[0;31m             \u001b[0mself\u001b[0m\u001b[0;34m.\u001b[0m\u001b[0m_validate_integer\u001b[0m\u001b[0;34m(\u001b[0m\u001b[0mkey\u001b[0m\u001b[0;34m,\u001b[0m \u001b[0maxis\u001b[0m\u001b[0;34m)\u001b[0m\u001b[0;34m\u001b[0m\u001b[0;34m\u001b[0m\u001b[0m\n\u001b[0m\u001b[1;32m   1353\u001b[0m         \u001b[0;32melif\u001b[0m \u001b[0misinstance\u001b[0m\u001b[0;34m(\u001b[0m\u001b[0mkey\u001b[0m\u001b[0;34m,\u001b[0m \u001b[0mtuple\u001b[0m\u001b[0;34m)\u001b[0m\u001b[0;34m:\u001b[0m\u001b[0;34m\u001b[0m\u001b[0;34m\u001b[0m\u001b[0m\n\u001b[1;32m   1354\u001b[0m             \u001b[0;31m# a tuple should already have been caught by this point\u001b[0m\u001b[0;34m\u001b[0m\u001b[0;34m\u001b[0m\u001b[0;34m\u001b[0m\u001b[0m\n",
            "\u001b[0;32m/usr/local/lib/python3.6/dist-packages/pandas/core/indexing.py\u001b[0m in \u001b[0;36m_validate_integer\u001b[0;34m(self, key, axis)\u001b[0m\n\u001b[1;32m   1435\u001b[0m         \u001b[0mlen_axis\u001b[0m \u001b[0;34m=\u001b[0m \u001b[0mlen\u001b[0m\u001b[0;34m(\u001b[0m\u001b[0mself\u001b[0m\u001b[0;34m.\u001b[0m\u001b[0mobj\u001b[0m\u001b[0;34m.\u001b[0m\u001b[0m_get_axis\u001b[0m\u001b[0;34m(\u001b[0m\u001b[0maxis\u001b[0m\u001b[0;34m)\u001b[0m\u001b[0;34m)\u001b[0m\u001b[0;34m\u001b[0m\u001b[0;34m\u001b[0m\u001b[0m\n\u001b[1;32m   1436\u001b[0m         \u001b[0;32mif\u001b[0m \u001b[0mkey\u001b[0m \u001b[0;34m>=\u001b[0m \u001b[0mlen_axis\u001b[0m \u001b[0;32mor\u001b[0m \u001b[0mkey\u001b[0m \u001b[0;34m<\u001b[0m \u001b[0;34m-\u001b[0m\u001b[0mlen_axis\u001b[0m\u001b[0;34m:\u001b[0m\u001b[0;34m\u001b[0m\u001b[0;34m\u001b[0m\u001b[0m\n\u001b[0;32m-> 1437\u001b[0;31m             \u001b[0;32mraise\u001b[0m \u001b[0mIndexError\u001b[0m\u001b[0;34m(\u001b[0m\u001b[0;34m\"single positional indexer is out-of-bounds\"\u001b[0m\u001b[0;34m)\u001b[0m\u001b[0;34m\u001b[0m\u001b[0;34m\u001b[0m\u001b[0m\n\u001b[0m\u001b[1;32m   1438\u001b[0m \u001b[0;34m\u001b[0m\u001b[0m\n\u001b[1;32m   1439\u001b[0m     \u001b[0;31m# -------------------------------------------------------------------\u001b[0m\u001b[0;34m\u001b[0m\u001b[0;34m\u001b[0m\u001b[0;34m\u001b[0m\u001b[0m\n",
            "\u001b[0;31mIndexError\u001b[0m: single positional indexer is out-of-bounds"
          ]
        }
      ]
    },
    {
      "cell_type": "code",
      "metadata": {
        "id": "OdLAy99ZRaJM"
      },
      "source": [
        "anti_join_list"
      ],
      "execution_count": null,
      "outputs": []
    },
    {
      "cell_type": "code",
      "metadata": {
        "id": "hJXFC3ayRTTB",
        "outputId": "37affa05-d94a-4253-aa84-96c709170deb",
        "colab": {
          "base_uri": "https://localhost:8080/"
        }
      },
      "source": [
        "data2.dtypes"
      ],
      "execution_count": 116,
      "outputs": [
        {
          "output_type": "execute_result",
          "data": {
            "text/plain": [
              "transaction_id                   int64\n",
              "tx_date                         object\n",
              "client_id                        int64\n",
              "client_gender                   object\n",
              "client_year_of_birth           float64\n",
              "amount                           int64\n",
              "merchant_uid                    object\n",
              "merchant_category               object\n",
              "shop_tags                       object\n",
              "merchant_category_id           float64\n",
              "shop_uid                        object\n",
              "shop_type                       object\n",
              "region                          object\n",
              "country                         object\n",
              "year                             int64\n",
              "month                            int64\n",
              "day                              int64\n",
              "yearmonth               datetime64[ns]\n",
              "client_age                     float64\n",
              "dtype: object"
            ]
          },
          "metadata": {
            "tags": []
          },
          "execution_count": 116
        }
      ]
    },
    {
      "cell_type": "code",
      "metadata": {
        "id": "dRtsUzH_-csY"
      },
      "source": [
        "data3 = pd.merge(data2, town_mapping, how = \"inner\", on = \"client_id\")"
      ],
      "execution_count": 122,
      "outputs": []
    },
    {
      "cell_type": "code",
      "metadata": {
        "id": "PFacC_LE9-2l"
      },
      "source": [
        "data2[\"client_age\"] = 2020 - data2[\"client_year_of_birth\"]"
      ],
      "execution_count": 11,
      "outputs": []
    },
    {
      "cell_type": "code",
      "metadata": {
        "id": "jYs7Kodf-b9c"
      },
      "source": [
        "data3 = data3.rename({\"region_y\":\"client_home_region\"}, axis =  1)"
      ],
      "execution_count": 125,
      "outputs": []
    },
    {
      "cell_type": "code",
      "metadata": {
        "id": "8TSicarHTToJ"
      },
      "source": [
        "data3.to_csv(\"enriched_data.csv\")"
      ],
      "execution_count": 126,
      "outputs": []
    },
    {
      "cell_type": "code",
      "metadata": {
        "id": "TMlp3gffWHAH"
      },
      "source": [
        "data3 = pd.read_csv(\"/content/drive/My Drive/CS_HACKATHON/enriched_data.csv\")"
      ],
      "execution_count": 3,
      "outputs": []
    },
    {
      "cell_type": "code",
      "metadata": {
        "id": "q8fX4a66VcR9"
      },
      "source": [
        "client_table = data3.groupby([\"client_id\", \"population\", \"client_home_region\", \"client_gender\", \"merchant_category\", \"client_year_of_birth\"]).agg({\"amount\":\"sum\"}).reset_index()\n",
        "\n",
        "client_table2 = client_table.groupby([\"client_id\", \"client_gender\", \"population\", \"client_home_region\", \"client_year_of_birth\"]).agg({\"amount\":\"sum\"})\\\n",
        ".rename({\"amount\":\"tot_m_amount\"}).reset_index()\n",
        "client_table_tot = client_table.merge(client_table2,on = [\"client_id\", \"population\", \"client_home_region\", \"client_gender\", \"client_year_of_birth\"])"
      ],
      "execution_count": null,
      "outputs": []
    },
    {
      "cell_type": "code",
      "metadata": {
        "id": "uVqOv_PnVcBM"
      },
      "source": [
        "client_table = data3.groupby([\"client_id\", \"population\", \"client_home_region\", \"client_gender\", \"merchant_category\", \"client_year_of_birth\"]).agg({\"amount\":\"sum\"}).reset_index()\n",
        "\n",
        "client_table2 = client_table.groupby([\"client_id\", \"client_gender\", \"population\", \"client_home_region\", \"client_year_of_birth\"]).agg({\"amount\":\"sum\"})\\\n",
        ".rename({\"amount\":\"tot_m_amount\"}).reset_index()\n",
        "client_table_tot = client_table.merge(client_table2,on = [\"client_id\", \"population\", \"client_home_region\", \"client_gender\", \"client_year_of_birth\"])"
      ],
      "execution_count": 4,
      "outputs": []
    },
    {
      "cell_type": "code",
      "metadata": {
        "id": "Cao69ei7W4SG",
        "outputId": "ea5d6fda-6150-4ca3-fb7a-e55f849e5ee3",
        "colab": {
          "base_uri": "https://localhost:8080/",
          "height": 226
        }
      },
      "source": [
        "client_table_tot[\"client_home_region\"] = client_table_tot[\"client_home_region\"].astype('category')\n",
        "client_table_tot[\"client_home_region_cat\"] = client_table_tot[\"client_home_region\"].cat.codes\n",
        "client_table_tot.head()\n"
      ],
      "execution_count": 5,
      "outputs": [
        {
          "output_type": "execute_result",
          "data": {
            "text/html": [
              "<div>\n",
              "<style scoped>\n",
              "    .dataframe tbody tr th:only-of-type {\n",
              "        vertical-align: middle;\n",
              "    }\n",
              "\n",
              "    .dataframe tbody tr th {\n",
              "        vertical-align: top;\n",
              "    }\n",
              "\n",
              "    .dataframe thead th {\n",
              "        text-align: right;\n",
              "    }\n",
              "</style>\n",
              "<table border=\"1\" class=\"dataframe\">\n",
              "  <thead>\n",
              "    <tr style=\"text-align: right;\">\n",
              "      <th></th>\n",
              "      <th>client_id</th>\n",
              "      <th>population</th>\n",
              "      <th>client_home_region</th>\n",
              "      <th>client_gender</th>\n",
              "      <th>merchant_category</th>\n",
              "      <th>client_year_of_birth</th>\n",
              "      <th>amount_x</th>\n",
              "      <th>amount_y</th>\n",
              "      <th>client_home_region_cat</th>\n",
              "    </tr>\n",
              "  </thead>\n",
              "  <tbody>\n",
              "    <tr>\n",
              "      <th>0</th>\n",
              "      <td>27</td>\n",
              "      <td>235472</td>\n",
              "      <td>Olomouc</td>\n",
              "      <td>Male</td>\n",
              "      <td>Atm</td>\n",
              "      <td>1985.0</td>\n",
              "      <td>-44607</td>\n",
              "      <td>-229973</td>\n",
              "      <td>38</td>\n",
              "    </tr>\n",
              "    <tr>\n",
              "      <th>1</th>\n",
              "      <td>27</td>\n",
              "      <td>235472</td>\n",
              "      <td>Olomouc</td>\n",
              "      <td>Male</td>\n",
              "      <td>Beauty</td>\n",
              "      <td>1985.0</td>\n",
              "      <td>-1030</td>\n",
              "      <td>-229973</td>\n",
              "      <td>38</td>\n",
              "    </tr>\n",
              "    <tr>\n",
              "      <th>2</th>\n",
              "      <td>27</td>\n",
              "      <td>235472</td>\n",
              "      <td>Olomouc</td>\n",
              "      <td>Male</td>\n",
              "      <td>Car</td>\n",
              "      <td>1985.0</td>\n",
              "      <td>-2893</td>\n",
              "      <td>-229973</td>\n",
              "      <td>38</td>\n",
              "    </tr>\n",
              "    <tr>\n",
              "      <th>3</th>\n",
              "      <td>27</td>\n",
              "      <td>235472</td>\n",
              "      <td>Olomouc</td>\n",
              "      <td>Male</td>\n",
              "      <td>Children</td>\n",
              "      <td>1985.0</td>\n",
              "      <td>-2233</td>\n",
              "      <td>-229973</td>\n",
              "      <td>38</td>\n",
              "    </tr>\n",
              "    <tr>\n",
              "      <th>4</th>\n",
              "      <td>27</td>\n",
              "      <td>235472</td>\n",
              "      <td>Olomouc</td>\n",
              "      <td>Male</td>\n",
              "      <td>Consumer Goods</td>\n",
              "      <td>1985.0</td>\n",
              "      <td>-44</td>\n",
              "      <td>-229973</td>\n",
              "      <td>38</td>\n",
              "    </tr>\n",
              "  </tbody>\n",
              "</table>\n",
              "</div>"
            ],
            "text/plain": [
              "   client_id  population  ... amount_y client_home_region_cat\n",
              "0         27      235472  ...  -229973                     38\n",
              "1         27      235472  ...  -229973                     38\n",
              "2         27      235472  ...  -229973                     38\n",
              "3         27      235472  ...  -229973                     38\n",
              "4         27      235472  ...  -229973                     38\n",
              "\n",
              "[5 rows x 9 columns]"
            ]
          },
          "metadata": {
            "tags": []
          },
          "execution_count": 5
        }
      ]
    },
    {
      "cell_type": "code",
      "metadata": {
        "id": "up-ryNztWImW"
      },
      "source": [
        "client_table_tot[[\"gen_dummy\", \"gd2\"]] = pd.get_dummies(client_table_tot[\"client_gender\"])"
      ],
      "execution_count": 6,
      "outputs": []
    },
    {
      "cell_type": "code",
      "metadata": {
        "id": "eCsJzJYHXNJ9"
      },
      "source": [
        "client_table_tot.to_csv(\"/content/drive/My Drive/CS_HACKATHON/model_data.csv\")"
      ],
      "execution_count": 138,
      "outputs": []
    },
    {
      "cell_type": "code",
      "metadata": {
        "id": "95Lk6iC0VE26",
        "outputId": "ed012d7c-a0ee-4b6c-ca89-716d01416e64",
        "colab": {
          "base_uri": "https://localhost:8080/"
        }
      },
      "source": [
        "for cat in list(client_table_tot.merchant_category.unique()):\n",
        "    client_table_specific = client_table_tot[client_table_tot[\"merchant_category\"] == cat]\n",
        "    X = client_table_specific[[\"client_id\", \"client_home_region_cat\", \"population\", \"gen_dummy\", \"client_year_of_birth\", \"amount_y\"]]\n",
        "    y = client_table_specific[\"amount_x\"]\n",
        "    \n",
        "    # Note the difference in argument order\n",
        "    model = sm.OLS(y, X).fit()\n",
        "    predictions = model.predict(X) # make the predictions by the model\n",
        "    \n",
        "    # Print out the statistics\n",
        "    print(model.rsquared, model.mse_resid)"
      ],
      "execution_count": 7,
      "outputs": [
        {
          "output_type": "stream",
          "text": [
            "0.643036860130832 7088367152.553399\n",
            "0.19505517234253333 37908215.82096588\n",
            "0.29073779391256427 468945718.63939714\n",
            "0.25252508510454685 9056860.89851216\n",
            "0.1920288105743453 55970279.58028257\n",
            "0.11111012896718553 829259331.3680534\n",
            "0.4857122338637684 9796726.02514981\n",
            "0.18903614499704835 234521874.997703\n",
            "0.49847629431587936 83029309.8458023\n",
            "0.3822092236950658 7958680344.094479\n",
            "0.6798107466944102 604576845.4969293\n",
            "0.307432018635417 14304617.872161342\n",
            "0.13384914999103525 446274556.8976223\n",
            "0.2699661124001841 290760695.67298913\n",
            "0.2591400733134549 111088564.78736064\n",
            "0.2877530226577555 381344678.753501\n",
            "0.28621186907353235 10382417.613060953\n",
            "0.2480726502016254 292887383.3097777\n",
            "0.24931931846884092 74647933.61487778\n",
            "0.2049885707951189 21459014.144421328\n",
            "0.25920306503500623 5022031.785937097\n",
            "0.22474471002280882 3067164927.644088\n"
          ],
          "name": "stdout"
        }
      ]
    },
    {
      "cell_type": "code",
      "metadata": {
        "id": "Un8LAPW5YeDg"
      },
      "source": [
        "from sklearn.preprocessing import PolynomialFeatures\n",
        "from sklearn.linear_model import LinearRegression\n",
        "from sklearn.pipeline import Pipeline\n",
        "\n"
      ],
      "execution_count": 8,
      "outputs": []
    },
    {
      "cell_type": "code",
      "metadata": {
        "id": "oEIQmbJmZGoZ",
        "outputId": "96ae8c59-b928-44d7-c57c-a31c7b9ce930",
        "colab": {
          "base_uri": "https://localhost:8080/"
        }
      },
      "source": [
        "model_type = \"Polynomial_regression\"\n",
        "print(model_type)\n",
        "for cat in list(client_table_tot.merchant_category.unique()):\n",
        "    client_table_specific = client_table_tot[client_table_tot[\"merchant_category\"] == cat]\n",
        "    X = client_table_specific[[\"client_id\", \"client_home_region_cat\", \"population\", \"gen_dummy\", \"client_year_of_birth\", \"amount_y\"]]\n",
        "    y = client_table_specific[\"amount_x\"]\n",
        "    \n",
        "    # Note the difference in argument order\n",
        "    model = Pipeline([('poly', PolynomialFeatures(degree=3)),\n",
        "                   ('linear', LinearRegression(fit_intercept=False))])\n",
        "    model = model.fit(X, y)\n",
        "    predictions = model.predict(X) # make the predictions by the model\n",
        "    dump(model,\n",
        "         f'/content/drive/My Drive/CS_HACKATHON/models/{model_type}_{cat}.joblib') \n",
        "    # Print out the statistics\n",
        "    print(sklearn.metrics.mean_absolute_error(y, predictions))\n"
      ],
      "execution_count": 9,
      "outputs": [
        {
          "output_type": "stream",
          "text": [
            "Polynomial_regression\n",
            "29424.178930840484\n",
            "2430.964714160231\n",
            "8907.01308294266\n",
            "1522.1488249209815\n",
            "2893.736101089636\n",
            "6770.102730353388\n",
            "2041.4725664186901\n",
            "6477.164325923018\n",
            "5372.295891070098\n",
            "20803.245207454533\n",
            "15298.44853093642\n",
            "1962.5624611946096\n",
            "7112.152006451269\n",
            "7634.293652076497\n",
            "5374.38465717431\n",
            "9151.917398562302\n",
            "1841.073455580981\n",
            "6651.942585594879\n",
            "3984.3641970043195\n",
            "2571.353962408936\n",
            "1075.7929649889663\n",
            "20098.182467881135\n"
          ],
          "name": "stdout"
        }
      ]
    },
    {
      "cell_type": "code",
      "metadata": {
        "id": "9rqQn1fkZGbb"
      },
      "source": [
        "list(client_table_tot.merchant_category.unique())"
      ],
      "execution_count": null,
      "outputs": []
    },
    {
      "cell_type": "code",
      "metadata": {
        "id": "FC6G5csVc7vy"
      },
      "source": [
        "model_type = \"Polynomial_regression\"\n",
        "print(model_type)\n",
        "for cat in list(client_table_tot.merchant_category.unique()):\n",
        "    client_table_specific = client_table_tot[client_table_tot[\"merchant_category\"] == cat]\n",
        "    X = client_table_specific[[\"client_id\", \"client_home_region_cat\", \"population\", \"gen_dummy\", \"client_year_of_birth\", \"amount_y\"]]\n",
        "    y = client_table_specific[\"amount_x\"]\n",
        "    \n",
        "    # Note the difference in argument order\n",
        "    model = Pipeline([('poly', PolynomialFeatures(degree=3)),\n",
        "                   ('linear', LinearRegression(fit_intercept=False))])\n",
        "    model = model.fit(X, y)\n",
        "    predictions = model.predict(X) # make the predictions by the model\n",
        "    dump(model,\n",
        "         f'/content/drive/My Drive/CS_HACKATHON/models/{model_type}_{cat}.joblib') \n",
        "    # Print out the statistics\n",
        "    print(sklearn.metrics.mean_absolute_error(y, predictions))\n"
      ],
      "execution_count": null,
      "outputs": []
    },
    {
      "cell_type": "code",
      "metadata": {
        "id": "ICWDnL2SdI3D"
      },
      "source": [
        "from sklearn.metrics import auc, accuracy_score, confusion_matrix, mean_squared_error\n",
        "from sklearn.model_selection import cross_val_score, GridSearchCV, KFold, RandomizedSearchCV, train_test_split\n",
        "\n",
        "import xgboost as xgb"
      ],
      "execution_count": 11,
      "outputs": []
    },
    {
      "cell_type": "code",
      "metadata": {
        "id": "6YXArc0cdRCZ",
        "outputId": "5b7e3c11-da37-4b4c-bdfc-1824a6c11dfc",
        "colab": {
          "base_uri": "https://localhost:8080/"
        }
      },
      "source": [
        "model_type = \"xgboost_squarederror\"\n",
        "print(model_type)\n",
        "for cat in list(client_table_tot.merchant_category.unique()):\n",
        "    client_table_specific = client_table_tot[client_table_tot[\"merchant_category\"] == cat]\n",
        "    X = client_table_specific[[\"client_id\", \"client_home_region_cat\", \"population\", \"gen_dummy\", \"client_year_of_birth\", \"amount_y\"]]\n",
        "    y = client_table_specific[\"amount_x\"]\n",
        "    \n",
        "    # Note the difference in argument order\n",
        "    model = xgb.XGBRegressor(objective=\"reg:squarederror\", random_state=42)\n",
        "    model = model.fit(X, y)\n",
        "    predictions = model.predict(X) # make the predictions by the model\n",
        "    dump(model,\n",
        "         f'/content/drive/My Drive/CS_HACKATHON/models/{model_type}_{cat}.joblib') \n",
        "    # Print out the statistics\n",
        "    print(cat, sklearn.metrics.mean_absolute_error(y, predictions))\n"
      ],
      "execution_count": 12,
      "outputs": [
        {
          "output_type": "stream",
          "text": [
            "xgboost_squarederror\n",
            "Atm 26419.581445364714\n",
            "Beauty 2360.355930314245\n",
            "Car 8252.313238775756\n",
            "Children 1460.2601022123613\n",
            "Consumer Goods 2794.9348523833223\n",
            "Digital Services 5292.024180780575\n",
            "Drugstore 1919.6977813355434\n",
            "Electronics 6226.692438763851\n",
            "Food And Drink 5195.08267599434\n",
            "Freetime 14915.40008716379\n",
            "Groceries 13712.494758004252\n",
            "Health 1892.8530598637801\n",
            "Professional Services 4643.825629452862\n",
            "Shopping Online 7435.687366900704\n",
            "Travel 5281.20816715055\n",
            "House And Garden 8846.426168281178\n",
            "Pets 1793.4864099101494\n",
            "Fashion 6422.292253235305\n",
            "Sport 3703.4400978059143\n",
            "Bills And Household 2304.631094447246\n",
            "Culture 1056.0432325739562\n",
            "Financial Services 16805.568190924005\n"
          ],
          "name": "stdout"
        }
      ]
    },
    {
      "cell_type": "code",
      "metadata": {
        "id": "XOgdSzd9fuLt",
        "outputId": "7bf2fe6a-c35d-4af5-d7a4-4d46cb4073d6",
        "colab": {
          "base_uri": "https://localhost:8080/",
          "height": 278
        }
      },
      "source": [
        "import matplotlib.pyplot as plt\n",
        "\n",
        "plt.hist(client_table_tot[\"amount_x\"], bins = 100)\n",
        "plt.show()"
      ],
      "execution_count": 17,
      "outputs": [
        {
          "output_type": "display_data",
          "data": {
            "image/png": "[encoded data removed]",
            "text/plain": [
              "<Figure size 432x288 with 1 Axes>"
            ]
          },
          "metadata": {
            "tags": [],
            "needs_background": "light"
          }
        }
      ]
    },
    {
      "cell_type": "code",
      "metadata": {
        "id": "cyRnbkkKgWFE",
        "outputId": "32833b4c-6fcb-461c-a90b-323ef8723c72",
        "colab": {
          "base_uri": "https://localhost:8080/"
        }
      },
      "source": [
        "client_table_tot[\"amount_x\"].sort_values()"
      ],
      "execution_count": 170,
      "outputs": [
        {
          "output_type": "execute_result",
          "data": {
            "text/plain": [
              "348684   -14232728\n",
              "736950    -8839500\n",
              "524387    -8297540\n",
              "229421    -7833650\n",
              "749947    -7622974\n",
              "            ...   \n",
              "19045         6958\n",
              "35553         7926\n",
              "111943       15838\n",
              "33449        23528\n",
              "94411        26531\n",
              "Name: amount_x, Length: 755067, dtype: int64"
            ]
          },
          "metadata": {
            "tags": []
          },
          "execution_count": 170
        }
      ]
    },
    {
      "cell_type": "code",
      "metadata": {
        "id": "Dm088yp4hjeX",
        "outputId": "7e7f4ab7-e964-47f4-c773-bf57e09b8227",
        "colab": {
          "base_uri": "https://localhost:8080/",
          "height": 424
        }
      },
      "source": [
        "client_table_tot.loc[:, [\"client_id\", \"amount_x\"]].sort_values(\"amount_x\")"
      ],
      "execution_count": 174,
      "outputs": [
        {
          "output_type": "execute_result",
          "data": {
            "text/html": [
              "<div>\n",
              "<style scoped>\n",
              "    .dataframe tbody tr th:only-of-type {\n",
              "        vertical-align: middle;\n",
              "    }\n",
              "\n",
              "    .dataframe tbody tr th {\n",
              "        vertical-align: top;\n",
              "    }\n",
              "\n",
              "    .dataframe thead th {\n",
              "        text-align: right;\n",
              "    }\n",
              "</style>\n",
              "<table border=\"1\" class=\"dataframe\">\n",
              "  <thead>\n",
              "    <tr style=\"text-align: right;\">\n",
              "      <th></th>\n",
              "      <th>client_id</th>\n",
              "      <th>amount_x</th>\n",
              "    </tr>\n",
              "  </thead>\n",
              "  <tbody>\n",
              "    <tr>\n",
              "      <th>348684</th>\n",
              "      <td>77975</td>\n",
              "      <td>-14232728</td>\n",
              "    </tr>\n",
              "    <tr>\n",
              "      <th>736950</th>\n",
              "      <td>192571</td>\n",
              "      <td>-8839500</td>\n",
              "    </tr>\n",
              "    <tr>\n",
              "      <th>524387</th>\n",
              "      <td>122244</td>\n",
              "      <td>-8297540</td>\n",
              "    </tr>\n",
              "    <tr>\n",
              "      <th>229421</th>\n",
              "      <td>51624</td>\n",
              "      <td>-7833650</td>\n",
              "    </tr>\n",
              "    <tr>\n",
              "      <th>749947</th>\n",
              "      <td>198871</td>\n",
              "      <td>-7622974</td>\n",
              "    </tr>\n",
              "    <tr>\n",
              "      <th>...</th>\n",
              "      <td>...</td>\n",
              "      <td>...</td>\n",
              "    </tr>\n",
              "    <tr>\n",
              "      <th>19045</th>\n",
              "      <td>3902</td>\n",
              "      <td>6958</td>\n",
              "    </tr>\n",
              "    <tr>\n",
              "      <th>35553</th>\n",
              "      <td>7320</td>\n",
              "      <td>7926</td>\n",
              "    </tr>\n",
              "    <tr>\n",
              "      <th>111943</th>\n",
              "      <td>24561</td>\n",
              "      <td>15838</td>\n",
              "    </tr>\n",
              "    <tr>\n",
              "      <th>33449</th>\n",
              "      <td>6855</td>\n",
              "      <td>23528</td>\n",
              "    </tr>\n",
              "    <tr>\n",
              "      <th>94411</th>\n",
              "      <td>20506</td>\n",
              "      <td>26531</td>\n",
              "    </tr>\n",
              "  </tbody>\n",
              "</table>\n",
              "<p>755067 rows × 2 columns</p>\n",
              "</div>"
            ],
            "text/plain": [
              "        client_id  amount_x\n",
              "348684      77975 -14232728\n",
              "736950     192571  -8839500\n",
              "524387     122244  -8297540\n",
              "229421      51624  -7833650\n",
              "749947     198871  -7622974\n",
              "...           ...       ...\n",
              "19045        3902      6958\n",
              "35553        7320      7926\n",
              "111943      24561     15838\n",
              "33449        6855     23528\n",
              "94411       20506     26531\n",
              "\n",
              "[755067 rows x 2 columns]"
            ]
          },
          "metadata": {
            "tags": []
          },
          "execution_count": 174
        }
      ]
    },
    {
      "cell_type": "code",
      "metadata": {
        "id": "ilOT2sB6h6UG",
        "outputId": "05ddab26-c84e-4b23-eb8f-e6465701e855",
        "colab": {
          "base_uri": "https://localhost:8080/",
          "height": 756
        }
      },
      "source": [
        "data3[data3[\"client_id\"] == 20506].sort_values(\"amount\")"
      ],
      "execution_count": 20,
      "outputs": [
        {
          "output_type": "execute_result",
          "data": {
            "text/html": [
              "<div>\n",
              "<style scoped>\n",
              "    .dataframe tbody tr th:only-of-type {\n",
              "        vertical-align: middle;\n",
              "    }\n",
              "\n",
              "    .dataframe tbody tr th {\n",
              "        vertical-align: top;\n",
              "    }\n",
              "\n",
              "    .dataframe thead th {\n",
              "        text-align: right;\n",
              "    }\n",
              "</style>\n",
              "<table border=\"1\" class=\"dataframe\">\n",
              "  <thead>\n",
              "    <tr style=\"text-align: right;\">\n",
              "      <th></th>\n",
              "      <th>Unnamed: 0</th>\n",
              "      <th>transaction_id</th>\n",
              "      <th>tx_date</th>\n",
              "      <th>client_id</th>\n",
              "      <th>client_gender</th>\n",
              "      <th>client_year_of_birth</th>\n",
              "      <th>amount</th>\n",
              "      <th>merchant_uid</th>\n",
              "      <th>merchant_category</th>\n",
              "      <th>shop_tags</th>\n",
              "      <th>merchant_category_id</th>\n",
              "      <th>shop_uid</th>\n",
              "      <th>shop_type</th>\n",
              "      <th>region_x</th>\n",
              "      <th>country</th>\n",
              "      <th>year</th>\n",
              "      <th>month</th>\n",
              "      <th>day</th>\n",
              "      <th>yearmonth</th>\n",
              "      <th>client_age</th>\n",
              "      <th>client_home_region</th>\n",
              "      <th>population</th>\n",
              "    </tr>\n",
              "  </thead>\n",
              "  <tbody>\n",
              "    <tr>\n",
              "      <th>12398305</th>\n",
              "      <td>12398305</td>\n",
              "      <td>10073145</td>\n",
              "      <td>2020-10-22</td>\n",
              "      <td>20506</td>\n",
              "      <td>Male</td>\n",
              "      <td>1995.0</td>\n",
              "      <td>-5100</td>\n",
              "      <td>ReW7Dekd9jUbXvZYVzmGzR</td>\n",
              "      <td>Atm</td>\n",
              "      <td>{Atm-All}</td>\n",
              "      <td>9.999900e+04</td>\n",
              "      <td>dVSgKooPh5sJdAHgt4Imzp</td>\n",
              "      <td>ATM</td>\n",
              "      <td>Frýdek-Místek</td>\n",
              "      <td>CZ</td>\n",
              "      <td>2020</td>\n",
              "      <td>10</td>\n",
              "      <td>1</td>\n",
              "      <td>2020-10-01</td>\n",
              "      <td>25.0</td>\n",
              "      <td>Ostrava-město</td>\n",
              "      <td>320145</td>\n",
              "    </tr>\n",
              "    <tr>\n",
              "      <th>12398073</th>\n",
              "      <td>12398073</td>\n",
              "      <td>3697553</td>\n",
              "      <td>2020-10-02</td>\n",
              "      <td>20506</td>\n",
              "      <td>Male</td>\n",
              "      <td>1995.0</td>\n",
              "      <td>-2624</td>\n",
              "      <td>D7AM0AYJW3SXG0kNLlj79Y</td>\n",
              "      <td>Groceries</td>\n",
              "      <td>{Hyper-Supermarket,Online Groceries,Shopping O...</td>\n",
              "      <td>1.510000e+02</td>\n",
              "      <td>REjZgp098rtYjmz32nBJQN</td>\n",
              "      <td>ONLINE</td>\n",
              "      <td>NaN</td>\n",
              "      <td>NaN</td>\n",
              "      <td>2020</td>\n",
              "      <td>10</td>\n",
              "      <td>1</td>\n",
              "      <td>2020-10-01</td>\n",
              "      <td>25.0</td>\n",
              "      <td>Ostrava-město</td>\n",
              "      <td>320145</td>\n",
              "    </tr>\n",
              "    <tr>\n",
              "      <th>12398069</th>\n",
              "      <td>12398069</td>\n",
              "      <td>2914109</td>\n",
              "      <td>2020-09-07</td>\n",
              "      <td>20506</td>\n",
              "      <td>Male</td>\n",
              "      <td>1995.0</td>\n",
              "      <td>-2212</td>\n",
              "      <td>Ve2LvJzWadip25o9YaWdmy</td>\n",
              "      <td>Shopping Online</td>\n",
              "      <td>{Eshop With Everything,Shopping Online}</td>\n",
              "      <td>1.483997e+06</td>\n",
              "      <td>ek4lgzQNMvTMy2J8YmKKkd</td>\n",
              "      <td>ONLINE</td>\n",
              "      <td>NaN</td>\n",
              "      <td>CZ</td>\n",
              "      <td>2020</td>\n",
              "      <td>9</td>\n",
              "      <td>1</td>\n",
              "      <td>2020-09-01</td>\n",
              "      <td>25.0</td>\n",
              "      <td>Ostrava-město</td>\n",
              "      <td>320145</td>\n",
              "    </tr>\n",
              "    <tr>\n",
              "      <th>12398306</th>\n",
              "      <td>12398306</td>\n",
              "      <td>10073567</td>\n",
              "      <td>2020-09-18</td>\n",
              "      <td>20506</td>\n",
              "      <td>Male</td>\n",
              "      <td>1995.0</td>\n",
              "      <td>-1560</td>\n",
              "      <td>ReW7Dekd9jUbXvZYVzmGzR</td>\n",
              "      <td>Atm</td>\n",
              "      <td>{Atm-All}</td>\n",
              "      <td>9.999900e+04</td>\n",
              "      <td>dVSgKooPh5sJdAHgt4Imzp</td>\n",
              "      <td>ATM</td>\n",
              "      <td>Frýdek-Místek</td>\n",
              "      <td>CZ</td>\n",
              "      <td>2020</td>\n",
              "      <td>9</td>\n",
              "      <td>1</td>\n",
              "      <td>2020-09-01</td>\n",
              "      <td>25.0</td>\n",
              "      <td>Ostrava-město</td>\n",
              "      <td>320145</td>\n",
              "    </tr>\n",
              "    <tr>\n",
              "      <th>12398115</th>\n",
              "      <td>12398115</td>\n",
              "      <td>6974733</td>\n",
              "      <td>2020-09-15</td>\n",
              "      <td>20506</td>\n",
              "      <td>Male</td>\n",
              "      <td>1995.0</td>\n",
              "      <td>-1442</td>\n",
              "      <td>lodeWpPR8Bh99MyKmzBbBk</td>\n",
              "      <td>Car</td>\n",
              "      <td>{Gas Station}</td>\n",
              "      <td>1.390000e+02</td>\n",
              "      <td>7LVmMzqkn5IvzA3dab3LJn</td>\n",
              "      <td>MERCHANT</td>\n",
              "      <td>Benešov</td>\n",
              "      <td>CZ</td>\n",
              "      <td>2020</td>\n",
              "      <td>9</td>\n",
              "      <td>1</td>\n",
              "      <td>2020-09-01</td>\n",
              "      <td>25.0</td>\n",
              "      <td>Ostrava-město</td>\n",
              "      <td>320145</td>\n",
              "    </tr>\n",
              "    <tr>\n",
              "      <th>...</th>\n",
              "      <td>...</td>\n",
              "      <td>...</td>\n",
              "      <td>...</td>\n",
              "      <td>...</td>\n",
              "      <td>...</td>\n",
              "      <td>...</td>\n",
              "      <td>...</td>\n",
              "      <td>...</td>\n",
              "      <td>...</td>\n",
              "      <td>...</td>\n",
              "      <td>...</td>\n",
              "      <td>...</td>\n",
              "      <td>...</td>\n",
              "      <td>...</td>\n",
              "      <td>...</td>\n",
              "      <td>...</td>\n",
              "      <td>...</td>\n",
              "      <td>...</td>\n",
              "      <td>...</td>\n",
              "      <td>...</td>\n",
              "      <td>...</td>\n",
              "      <td>...</td>\n",
              "    </tr>\n",
              "    <tr>\n",
              "      <th>12398072</th>\n",
              "      <td>12398072</td>\n",
              "      <td>3687006</td>\n",
              "      <td>2020-10-20</td>\n",
              "      <td>20506</td>\n",
              "      <td>Male</td>\n",
              "      <td>1995.0</td>\n",
              "      <td>-11</td>\n",
              "      <td>85R0XQVgN5h995Q19K30</td>\n",
              "      <td>Travel</td>\n",
              "      <td>{Air Tickets,Bus,Long Distance Transport,Onlin...</td>\n",
              "      <td>1.400000e+02</td>\n",
              "      <td>ZKLAAm3qzpTN7Bq9pgL3V9</td>\n",
              "      <td>ONLINE</td>\n",
              "      <td>NaN</td>\n",
              "      <td>NaN</td>\n",
              "      <td>2020</td>\n",
              "      <td>10</td>\n",
              "      <td>1</td>\n",
              "      <td>2020-10-01</td>\n",
              "      <td>25.0</td>\n",
              "      <td>Ostrava-město</td>\n",
              "      <td>320145</td>\n",
              "    </tr>\n",
              "    <tr>\n",
              "      <th>12398247</th>\n",
              "      <td>12398247</td>\n",
              "      <td>9153543</td>\n",
              "      <td>2020-10-08</td>\n",
              "      <td>20506</td>\n",
              "      <td>Male</td>\n",
              "      <td>1995.0</td>\n",
              "      <td>-8</td>\n",
              "      <td>0zDr11JlGmIKlM173lyrrE</td>\n",
              "      <td>Travel</td>\n",
              "      <td>{Long Distance Transport,Online Travel,Shoppin...</td>\n",
              "      <td>1.400000e+02</td>\n",
              "      <td>ay4B3zomepcAdQRoAv3839</td>\n",
              "      <td>ONLINE</td>\n",
              "      <td>NaN</td>\n",
              "      <td>CZ</td>\n",
              "      <td>2020</td>\n",
              "      <td>10</td>\n",
              "      <td>1</td>\n",
              "      <td>2020-10-01</td>\n",
              "      <td>25.0</td>\n",
              "      <td>Ostrava-město</td>\n",
              "      <td>320145</td>\n",
              "    </tr>\n",
              "    <tr>\n",
              "      <th>12398251</th>\n",
              "      <td>12398251</td>\n",
              "      <td>9192766</td>\n",
              "      <td>2020-05-31</td>\n",
              "      <td>20506</td>\n",
              "      <td>Male</td>\n",
              "      <td>1995.0</td>\n",
              "      <td>-5</td>\n",
              "      <td>0zDr11JlGmIKlM173lyrrE</td>\n",
              "      <td>Travel</td>\n",
              "      <td>{Long Distance Transport,Online Travel,Shoppin...</td>\n",
              "      <td>1.400000e+02</td>\n",
              "      <td>ay4B3zomepcAdQRoAv3839</td>\n",
              "      <td>ONLINE</td>\n",
              "      <td>NaN</td>\n",
              "      <td>CZ</td>\n",
              "      <td>2020</td>\n",
              "      <td>5</td>\n",
              "      <td>1</td>\n",
              "      <td>2020-05-01</td>\n",
              "      <td>25.0</td>\n",
              "      <td>Ostrava-město</td>\n",
              "      <td>320145</td>\n",
              "    </tr>\n",
              "    <tr>\n",
              "      <th>12398266</th>\n",
              "      <td>12398266</td>\n",
              "      <td>9278241</td>\n",
              "      <td>2020-05-10</td>\n",
              "      <td>20506</td>\n",
              "      <td>Male</td>\n",
              "      <td>1995.0</td>\n",
              "      <td>-5</td>\n",
              "      <td>0zDr11JlGmIKlM173lyrrE</td>\n",
              "      <td>Travel</td>\n",
              "      <td>{Long Distance Transport,Online Travel,Shoppin...</td>\n",
              "      <td>1.400000e+02</td>\n",
              "      <td>ay4B3zomepcAdQRoAv3839</td>\n",
              "      <td>ONLINE</td>\n",
              "      <td>NaN</td>\n",
              "      <td>CZ</td>\n",
              "      <td>2020</td>\n",
              "      <td>5</td>\n",
              "      <td>1</td>\n",
              "      <td>2020-05-01</td>\n",
              "      <td>25.0</td>\n",
              "      <td>Ostrava-město</td>\n",
              "      <td>320145</td>\n",
              "    </tr>\n",
              "    <tr>\n",
              "      <th>12398094</th>\n",
              "      <td>12398094</td>\n",
              "      <td>4601004</td>\n",
              "      <td>2020-05-07</td>\n",
              "      <td>20506</td>\n",
              "      <td>Male</td>\n",
              "      <td>1995.0</td>\n",
              "      <td>27074</td>\n",
              "      <td>RLA703JZDMTg089aXadM81</td>\n",
              "      <td>Sport</td>\n",
              "      <td>{Sports And Outdoor Equipment}</td>\n",
              "      <td>3.653022e+09</td>\n",
              "      <td>92Yzzr2mZ9cbr8lBbRn8n4</td>\n",
              "      <td>MERCHANT</td>\n",
              "      <td>Ostrava-město</td>\n",
              "      <td>CZ</td>\n",
              "      <td>2020</td>\n",
              "      <td>5</td>\n",
              "      <td>1</td>\n",
              "      <td>2020-05-01</td>\n",
              "      <td>25.0</td>\n",
              "      <td>Ostrava-město</td>\n",
              "      <td>320145</td>\n",
              "    </tr>\n",
              "  </tbody>\n",
              "</table>\n",
              "<p>353 rows × 22 columns</p>\n",
              "</div>"
            ],
            "text/plain": [
              "          Unnamed: 0  transaction_id  ... client_home_region  population\n",
              "12398305    12398305        10073145  ...      Ostrava-město      320145\n",
              "12398073    12398073         3697553  ...      Ostrava-město      320145\n",
              "12398069    12398069         2914109  ...      Ostrava-město      320145\n",
              "12398306    12398306        10073567  ...      Ostrava-město      320145\n",
              "12398115    12398115         6974733  ...      Ostrava-město      320145\n",
              "...              ...             ...  ...                ...         ...\n",
              "12398072    12398072         3687006  ...      Ostrava-město      320145\n",
              "12398247    12398247         9153543  ...      Ostrava-město      320145\n",
              "12398251    12398251         9192766  ...      Ostrava-město      320145\n",
              "12398266    12398266         9278241  ...      Ostrava-město      320145\n",
              "12398094    12398094         4601004  ...      Ostrava-město      320145\n",
              "\n",
              "[353 rows x 22 columns]"
            ]
          },
          "metadata": {
            "tags": []
          },
          "execution_count": 20
        }
      ]
    },
    {
      "cell_type": "code",
      "metadata": {
        "id": "1jiNDbaXvDDQ",
        "outputId": "9e5a9355-31ec-4c4c-9a15-797ca7c73ce0",
        "colab": {
          "base_uri": "https://localhost:8080/",
          "height": 687
        }
      },
      "source": [
        "data3[data3[\"amount\"] >= 0].sort_values(\"amount\")"
      ],
      "execution_count": 21,
      "outputs": [
        {
          "output_type": "execute_result",
          "data": {
            "text/html": [
              "<div>\n",
              "<style scoped>\n",
              "    .dataframe tbody tr th:only-of-type {\n",
              "        vertical-align: middle;\n",
              "    }\n",
              "\n",
              "    .dataframe tbody tr th {\n",
              "        vertical-align: top;\n",
              "    }\n",
              "\n",
              "    .dataframe thead th {\n",
              "        text-align: right;\n",
              "    }\n",
              "</style>\n",
              "<table border=\"1\" class=\"dataframe\">\n",
              "  <thead>\n",
              "    <tr style=\"text-align: right;\">\n",
              "      <th></th>\n",
              "      <th>Unnamed: 0</th>\n",
              "      <th>transaction_id</th>\n",
              "      <th>tx_date</th>\n",
              "      <th>client_id</th>\n",
              "      <th>client_gender</th>\n",
              "      <th>client_year_of_birth</th>\n",
              "      <th>amount</th>\n",
              "      <th>merchant_uid</th>\n",
              "      <th>merchant_category</th>\n",
              "      <th>shop_tags</th>\n",
              "      <th>merchant_category_id</th>\n",
              "      <th>shop_uid</th>\n",
              "      <th>shop_type</th>\n",
              "      <th>region_x</th>\n",
              "      <th>country</th>\n",
              "      <th>year</th>\n",
              "      <th>month</th>\n",
              "      <th>day</th>\n",
              "      <th>yearmonth</th>\n",
              "      <th>client_age</th>\n",
              "      <th>client_home_region</th>\n",
              "      <th>population</th>\n",
              "    </tr>\n",
              "  </thead>\n",
              "  <tbody>\n",
              "    <tr>\n",
              "      <th>5769366</th>\n",
              "      <td>5769366</td>\n",
              "      <td>10585007</td>\n",
              "      <td>2020-08-17</td>\n",
              "      <td>119739</td>\n",
              "      <td>Male</td>\n",
              "      <td>1995.0</td>\n",
              "      <td>0</td>\n",
              "      <td>drrYz8DXpNsVmdN9zkpJ11</td>\n",
              "      <td>NaN</td>\n",
              "      <td>{Shopping Online}</td>\n",
              "      <td>NaN</td>\n",
              "      <td>MjZQZqNd2Frp29BM4zVW</td>\n",
              "      <td>ONLINE</td>\n",
              "      <td>NaN</td>\n",
              "      <td>NaN</td>\n",
              "      <td>2020</td>\n",
              "      <td>8</td>\n",
              "      <td>1</td>\n",
              "      <td>2020-08-01</td>\n",
              "      <td>25.0</td>\n",
              "      <td>Hlavní město Praha</td>\n",
              "      <td>1324277</td>\n",
              "    </tr>\n",
              "    <tr>\n",
              "      <th>12685152</th>\n",
              "      <td>12685152</td>\n",
              "      <td>10584952</td>\n",
              "      <td>2020-09-25</td>\n",
              "      <td>167669</td>\n",
              "      <td>Male</td>\n",
              "      <td>1995.0</td>\n",
              "      <td>0</td>\n",
              "      <td>drrYz8DXpNsVmdN9zkpJ11</td>\n",
              "      <td>NaN</td>\n",
              "      <td>{Shopping Online}</td>\n",
              "      <td>NaN</td>\n",
              "      <td>MjZQZqNd2Frp29BM4zVW</td>\n",
              "      <td>ONLINE</td>\n",
              "      <td>NaN</td>\n",
              "      <td>NaN</td>\n",
              "      <td>2020</td>\n",
              "      <td>9</td>\n",
              "      <td>1</td>\n",
              "      <td>2020-09-01</td>\n",
              "      <td>25.0</td>\n",
              "      <td>Hlavní město Praha</td>\n",
              "      <td>1324277</td>\n",
              "    </tr>\n",
              "    <tr>\n",
              "      <th>5690677</th>\n",
              "      <td>5690677</td>\n",
              "      <td>13060886</td>\n",
              "      <td>2020-09-28</td>\n",
              "      <td>57006</td>\n",
              "      <td>Male</td>\n",
              "      <td>1995.0</td>\n",
              "      <td>0</td>\n",
              "      <td>5qL1AD9PXhdVdnGP88rDY</td>\n",
              "      <td>Shopping Online</td>\n",
              "      <td>NaN</td>\n",
              "      <td>1483997.0</td>\n",
              "      <td>8vOg93Rz7oxs2GzQERcNYl</td>\n",
              "      <td>ONLINE</td>\n",
              "      <td>NaN</td>\n",
              "      <td>CN</td>\n",
              "      <td>2020</td>\n",
              "      <td>9</td>\n",
              "      <td>1</td>\n",
              "      <td>2020-09-01</td>\n",
              "      <td>25.0</td>\n",
              "      <td>Hlavní město Praha</td>\n",
              "      <td>1324277</td>\n",
              "    </tr>\n",
              "    <tr>\n",
              "      <th>5788783</th>\n",
              "      <td>5788783</td>\n",
              "      <td>2097339</td>\n",
              "      <td>2020-06-13</td>\n",
              "      <td>78842</td>\n",
              "      <td>Female</td>\n",
              "      <td>1990.0</td>\n",
              "      <td>0</td>\n",
              "      <td>EWQp90vaJvsgB473KLQ1qj</td>\n",
              "      <td>Food And Drink</td>\n",
              "      <td>{Restaurant Without A Waiter}</td>\n",
              "      <td>147.0</td>\n",
              "      <td>Ey2Rp93oQ9iGr4Lm8ZGYlG</td>\n",
              "      <td>MERCHANT</td>\n",
              "      <td>Hlavní město Praha</td>\n",
              "      <td>CZ</td>\n",
              "      <td>2020</td>\n",
              "      <td>6</td>\n",
              "      <td>1</td>\n",
              "      <td>2020-06-01</td>\n",
              "      <td>30.0</td>\n",
              "      <td>Hlavní město Praha</td>\n",
              "      <td>1324277</td>\n",
              "    </tr>\n",
              "    <tr>\n",
              "      <th>10099054</th>\n",
              "      <td>10099054</td>\n",
              "      <td>13073142</td>\n",
              "      <td>2020-06-17</td>\n",
              "      <td>26210</td>\n",
              "      <td>Male</td>\n",
              "      <td>1990.0</td>\n",
              "      <td>0</td>\n",
              "      <td>5qL1AD9PXhdVdnGP88rDY</td>\n",
              "      <td>Shopping Online</td>\n",
              "      <td>NaN</td>\n",
              "      <td>1483997.0</td>\n",
              "      <td>8vOg93Rz7oxs2GzQERcNYl</td>\n",
              "      <td>ONLINE</td>\n",
              "      <td>NaN</td>\n",
              "      <td>CN</td>\n",
              "      <td>2020</td>\n",
              "      <td>6</td>\n",
              "      <td>1</td>\n",
              "      <td>2020-06-01</td>\n",
              "      <td>30.0</td>\n",
              "      <td>Frýdek-Místek</td>\n",
              "      <td>214660</td>\n",
              "    </tr>\n",
              "    <tr>\n",
              "      <th>...</th>\n",
              "      <td>...</td>\n",
              "      <td>...</td>\n",
              "      <td>...</td>\n",
              "      <td>...</td>\n",
              "      <td>...</td>\n",
              "      <td>...</td>\n",
              "      <td>...</td>\n",
              "      <td>...</td>\n",
              "      <td>...</td>\n",
              "      <td>...</td>\n",
              "      <td>...</td>\n",
              "      <td>...</td>\n",
              "      <td>...</td>\n",
              "      <td>...</td>\n",
              "      <td>...</td>\n",
              "      <td>...</td>\n",
              "      <td>...</td>\n",
              "      <td>...</td>\n",
              "      <td>...</td>\n",
              "      <td>...</td>\n",
              "      <td>...</td>\n",
              "      <td>...</td>\n",
              "    </tr>\n",
              "    <tr>\n",
              "      <th>13092332</th>\n",
              "      <td>13092332</td>\n",
              "      <td>2586771</td>\n",
              "      <td>2020-05-05</td>\n",
              "      <td>22991</td>\n",
              "      <td>Male</td>\n",
              "      <td>1980.0</td>\n",
              "      <td>27245</td>\n",
              "      <td>Ve2LvJzWadip25o9YaWdmy</td>\n",
              "      <td>Shopping Online</td>\n",
              "      <td>{Eshop With Everything,Shopping Online}</td>\n",
              "      <td>1483997.0</td>\n",
              "      <td>ek4lgzQNMvTMy2J8YmKKkd</td>\n",
              "      <td>ONLINE</td>\n",
              "      <td>NaN</td>\n",
              "      <td>CZ</td>\n",
              "      <td>2020</td>\n",
              "      <td>5</td>\n",
              "      <td>1</td>\n",
              "      <td>2020-05-01</td>\n",
              "      <td>40.0</td>\n",
              "      <td>Ústí nad Orlicí</td>\n",
              "      <td>138275</td>\n",
              "    </tr>\n",
              "    <tr>\n",
              "      <th>1036033</th>\n",
              "      <td>1036033</td>\n",
              "      <td>8064841</td>\n",
              "      <td>2020-05-12</td>\n",
              "      <td>23583</td>\n",
              "      <td>Male</td>\n",
              "      <td>1990.0</td>\n",
              "      <td>30707</td>\n",
              "      <td>RQBXzp9yp9SWAZBel9m7Bp</td>\n",
              "      <td>Financial Services</td>\n",
              "      <td>{Online Financial Services,Shopping Online,Sto...</td>\n",
              "      <td>152.0</td>\n",
              "      <td>n9LZoGmYWDIMMBpa23JPMe</td>\n",
              "      <td>ONLINE</td>\n",
              "      <td>NaN</td>\n",
              "      <td>CY</td>\n",
              "      <td>2020</td>\n",
              "      <td>5</td>\n",
              "      <td>1</td>\n",
              "      <td>2020-05-01</td>\n",
              "      <td>30.0</td>\n",
              "      <td>Plzeň-město</td>\n",
              "      <td>194280</td>\n",
              "    </tr>\n",
              "    <tr>\n",
              "      <th>6557258</th>\n",
              "      <td>6557258</td>\n",
              "      <td>2597178</td>\n",
              "      <td>2020-05-03</td>\n",
              "      <td>6855</td>\n",
              "      <td>Male</td>\n",
              "      <td>1985.0</td>\n",
              "      <td>33319</td>\n",
              "      <td>Ve2LvJzWadip25o9YaWdmy</td>\n",
              "      <td>Shopping Online</td>\n",
              "      <td>{Eshop With Everything,Shopping Online}</td>\n",
              "      <td>1483997.0</td>\n",
              "      <td>ek4lgzQNMvTMy2J8YmKKkd</td>\n",
              "      <td>ONLINE</td>\n",
              "      <td>NaN</td>\n",
              "      <td>CZ</td>\n",
              "      <td>2020</td>\n",
              "      <td>5</td>\n",
              "      <td>1</td>\n",
              "      <td>2020-05-01</td>\n",
              "      <td>35.0</td>\n",
              "      <td>Hlavní město Praha</td>\n",
              "      <td>1324277</td>\n",
              "    </tr>\n",
              "    <tr>\n",
              "      <th>1212103</th>\n",
              "      <td>1212103</td>\n",
              "      <td>10661270</td>\n",
              "      <td>2020-05-15</td>\n",
              "      <td>19441</td>\n",
              "      <td>Male</td>\n",
              "      <td>1985.0</td>\n",
              "      <td>35451</td>\n",
              "      <td>P9D5m7VaZvt7ArlK4q8Y7l</td>\n",
              "      <td>Travel</td>\n",
              "      <td>{Air Tickets,Long Distance Transport,Online Tr...</td>\n",
              "      <td>140.0</td>\n",
              "      <td>vp1aJkD4yPSGb2oLGkmZ79</td>\n",
              "      <td>ONLINE</td>\n",
              "      <td>NaN</td>\n",
              "      <td>NaN</td>\n",
              "      <td>2020</td>\n",
              "      <td>5</td>\n",
              "      <td>1</td>\n",
              "      <td>2020-05-01</td>\n",
              "      <td>35.0</td>\n",
              "      <td>Hlavní město Praha</td>\n",
              "      <td>1324277</td>\n",
              "    </tr>\n",
              "    <tr>\n",
              "      <th>2630117</th>\n",
              "      <td>2630117</td>\n",
              "      <td>2600078</td>\n",
              "      <td>2020-05-04</td>\n",
              "      <td>668</td>\n",
              "      <td>Male</td>\n",
              "      <td>1980.0</td>\n",
              "      <td>38919</td>\n",
              "      <td>Ve2LvJzWadip25o9YaWdmy</td>\n",
              "      <td>Shopping Online</td>\n",
              "      <td>{Eshop With Everything,Shopping Online}</td>\n",
              "      <td>1483997.0</td>\n",
              "      <td>Ylv4Qa5VQAUpk8BG9oVyGd</td>\n",
              "      <td>ONLINE</td>\n",
              "      <td>NaN</td>\n",
              "      <td>CZ</td>\n",
              "      <td>2020</td>\n",
              "      <td>5</td>\n",
              "      <td>1</td>\n",
              "      <td>2020-05-01</td>\n",
              "      <td>40.0</td>\n",
              "      <td>Hlavní město Praha</td>\n",
              "      <td>1324277</td>\n",
              "    </tr>\n",
              "  </tbody>\n",
              "</table>\n",
              "<p>1497 rows × 22 columns</p>\n",
              "</div>"
            ],
            "text/plain": [
              "          Unnamed: 0  transaction_id  ...  client_home_region  population\n",
              "5769366      5769366        10585007  ...  Hlavní město Praha     1324277\n",
              "12685152    12685152        10584952  ...  Hlavní město Praha     1324277\n",
              "5690677      5690677        13060886  ...  Hlavní město Praha     1324277\n",
              "5788783      5788783         2097339  ...  Hlavní město Praha     1324277\n",
              "10099054    10099054        13073142  ...       Frýdek-Místek      214660\n",
              "...              ...             ...  ...                 ...         ...\n",
              "13092332    13092332         2586771  ...     Ústí nad Orlicí      138275\n",
              "1036033      1036033         8064841  ...         Plzeň-město      194280\n",
              "6557258      6557258         2597178  ...  Hlavní město Praha     1324277\n",
              "1212103      1212103        10661270  ...  Hlavní město Praha     1324277\n",
              "2630117      2630117         2600078  ...  Hlavní město Praha     1324277\n",
              "\n",
              "[1497 rows x 22 columns]"
            ]
          },
          "metadata": {
            "tags": []
          },
          "execution_count": 21
        }
      ]
    }
  ]
}
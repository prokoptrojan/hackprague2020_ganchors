{
  "nbformat": 4,
  "nbformat_minor": 0,
  "metadata": {
    "colab": {
      "name": "hackaton2020.ipynb",
      "provenance": [],
      "mount_file_id": "1rZX7MEV_40v9-2TLWZY92fFH402RAIAc",
      "authorship_tag": "ABX9TyMQDzdSYVjOxh70XK4B91Js",
      "include_colab_link": true
    },
    "kernelspec": {
      "name": "python3",
      "display_name": "Python 3"
    }
  },
  "cells": [
    {
      "cell_type": "markdown",
      "metadata": {
        "id": "view-in-github",
        "colab_type": "text"
      },
      "source": [
        "<a href=\"https://colab.research.google.com/github/roman-ruzica/hackprague2020_ganchors/blob/main/hackaton2020_modelling.ipynb\" target=\"_parent\"><img src=\"https://colab.research.google.com/assets/colab-badge.svg\" alt=\"Open In Colab\"/></a>"
      ]
    },
    {
      "cell_type": "code",
      "metadata": {
        "id": "v46TCoQa8xoq",
        "outputId": "1ca3979e-0a1c-4542-d7d6-be998ef636f9",
        "colab": {
          "base_uri": "https://localhost:8080/"
        }
      },
      "source": [
        "import pandas as pd\n",
        "import numpy as np\n",
        "import sklearn as sklearn\n",
        "import statsmodels.api as sm\n",
        "import calendar\n",
        "from joblib import dump, load\n",
        "import datetime\n",
        "import matplotlib.pyplot as plt\n",
        "import statistics\n",
        "from sklearn.preprocessing import PolynomialFeatures\n",
        "from sklearn.linear_model import LinearRegression\n",
        "from sklearn.pipeline import Pipeline\n",
        "\n",
        "import tensorflow as tf\n",
        "\n",
        "from sklearn.metrics import auc, accuracy_score, confusion_matrix, mean_squared_error\n",
        "from sklearn.model_selection import cross_val_score, GridSearchCV, KFold, RandomizedSearchCV, train_test_split\n",
        "\n",
        "import xgboost as xgb\n",
        "\n",
        "from tensorflow import keras\n",
        "from tensorflow.keras import layers\n",
        "from tensorflow.keras.layers.experimental import preprocessing\n",
        "\n",
        "print(tf.__version__)\n"
      ],
      "execution_count": 1,
      "outputs": [
        {
          "output_type": "stream",
          "text": [
            "/usr/local/lib/python3.6/dist-packages/statsmodels/tools/_testing.py:19: FutureWarning: pandas.util.testing is deprecated. Use the functions in the public API at pandas.testing instead.\n",
            "  import pandas.util.testing as tm\n"
          ],
          "name": "stderr"
        }
      ]
    },
    {
      "cell_type": "code",
      "metadata": {
        "id": "v6qoUJstb_84",
        "outputId": "6cadc15a-0d7c-4adc-bdb5-d70e26cbbbcb",
        "colab": {
          "base_uri": "https://localhost:8080/"
        }
      },
      "source": [
        "# Make numpy printouts easier to read.\n",
        "np.set_printoptions(precision=2, suppress=True)\n",
        "\n"
      ],
      "execution_count": 2,
      "outputs": [
        {
          "output_type": "stream",
          "text": [
            "2.3.0\n"
          ],
          "name": "stdout"
        }
      ]
    },
    {
      "cell_type": "code",
      "metadata": {
        "id": "TMlp3gffWHAH"
      },
      "source": [
        "data3 = pd.read_csv(\"/content/drive/My Drive/CS_HACKATHON/enriched_data.csv\")"
      ],
      "execution_count": 3,
      "outputs": []
    },
    {
      "cell_type": "code",
      "metadata": {
        "id": "q8fX4a66VcR9"
      },
      "source": [
        "client_table = data3.groupby([\"client_id\", \"population\", \"client_home_region\", \"client_gender\", \"merchant_category\", \"client_year_of_birth\"]).agg({\"amount\":\"sum\"}).reset_index()\n",
        "\n",
        "client_table2 = client_table.groupby([\"client_id\", \"client_gender\", \"population\", \"client_home_region\", \"client_year_of_birth\"]).agg({\"amount\":\"sum\"})\\\n",
        ".rename({\"amount\":\"tot_m_amount\"}).reset_index()\n",
        "client_table_tot = client_table.merge(client_table2,on = [\"client_id\", \"population\", \"client_home_region\", \"client_gender\", \"client_year_of_birth\"])\n",
        "client_table_tot[\"client_home_region\"] = client_table_tot[\"client_home_region\"].astype('category')\n",
        "client_table_tot[\"client_home_region_cat\"] = client_table_tot[\"client_home_region\"].cat.codes\n",
        "client_table_tot[[\"gen_dummy\", \"gd2\"]] = pd.get_dummies(client_table_tot[\"client_gender\"])\n",
        "client_table_tot.to_csv(\"/content/drive/My Drive/CS_HACKATHON/model_data.csv\")"
      ],
      "execution_count": 4,
      "outputs": []
    },
    {
      "cell_type": "code",
      "metadata": {
        "id": "x-yFU40kkidJ"
      },
      "source": [
        "\n",
        "client_table_tot = pd.read_csv(\"/content/drive/My Drive/CS_HACKATHON/model_data.csv\")"
      ],
      "execution_count": null,
      "outputs": []
    },
    {
      "cell_type": "code",
      "metadata": {
        "id": "95Lk6iC0VE26",
        "outputId": "ed012d7c-a0ee-4b6c-ca89-716d01416e64",
        "colab": {
          "base_uri": "https://localhost:8080/"
        }
      },
      "source": [
        "for cat in list(client_table_tot.merchant_category.unique()):\n",
        "    client_table_specific = client_table_tot[client_table_tot[\"merchant_category\"] == cat]\n",
        "    X = client_table_specific[[\"client_id\", \"client_home_region_cat\", \"population\", \"gen_dummy\", \"client_year_of_birth\", \"amount_y\"]]\n",
        "    y = client_table_specific[\"amount_x\"]\n",
        "    \n",
        "    # Note the difference in argument order\n",
        "    model = sm.OLS(y, X).fit()\n",
        "    predictions = model.predict(X) # make the predictions by the model\n",
        "    \n",
        "    # Print out the statistics\n",
        "    print(model.rsquared, model.mse_resid)"
      ],
      "execution_count": 7,
      "outputs": [
        {
          "output_type": "stream",
          "text": [
            "0.643036860130832 7088367152.553399\n",
            "0.19505517234253333 37908215.82096588\n",
            "0.29073779391256427 468945718.63939714\n",
            "0.25252508510454685 9056860.89851216\n",
            "0.1920288105743453 55970279.58028257\n",
            "0.11111012896718553 829259331.3680534\n",
            "0.4857122338637684 9796726.02514981\n",
            "0.18903614499704835 234521874.997703\n",
            "0.49847629431587936 83029309.8458023\n",
            "0.3822092236950658 7958680344.094479\n",
            "0.6798107466944102 604576845.4969293\n",
            "0.307432018635417 14304617.872161342\n",
            "0.13384914999103525 446274556.8976223\n",
            "0.2699661124001841 290760695.67298913\n",
            "0.2591400733134549 111088564.78736064\n",
            "0.2877530226577555 381344678.753501\n",
            "0.28621186907353235 10382417.613060953\n",
            "0.2480726502016254 292887383.3097777\n",
            "0.24931931846884092 74647933.61487778\n",
            "0.2049885707951189 21459014.144421328\n",
            "0.25920306503500623 5022031.785937097\n",
            "0.22474471002280882 3067164927.644088\n"
          ],
          "name": "stdout"
        }
      ]
    },
    {
      "cell_type": "code",
      "metadata": {
        "id": "oEIQmbJmZGoZ",
        "outputId": "96ae8c59-b928-44d7-c57c-a31c7b9ce930",
        "colab": {
          "base_uri": "https://localhost:8080/"
        }
      },
      "source": [
        "model_type = \"Polynomial_regression\"\n",
        "print(model_type)\n",
        "for cat in list(client_table_tot.merchant_category.unique()):\n",
        "    client_table_specific = client_table_tot[client_table_tot[\"merchant_category\"] == cat]\n",
        "    X = client_table_specific[[\"client_id\", \"client_home_region_cat\", \"population\", \"gen_dummy\", \"client_year_of_birth\", \"amount_y\"]]\n",
        "    y = client_table_specific[\"amount_x\"]\n",
        "    \n",
        "    # Note the difference in argument order\n",
        "    model = Pipeline([('poly', PolynomialFeatures(degree=3)),\n",
        "                   ('linear', LinearRegression(fit_intercept=False))])\n",
        "    model = model.fit(X, y)\n",
        "    predictions = model.predict(X) # make the predictions by the model\n",
        "    dump(model,\n",
        "         f'/content/drive/My Drive/CS_HACKATHON/models/{model_type}_{cat}.joblib') \n",
        "    # Print out the statistics\n",
        "    print(cat, sklearn.metrics.mean_absolute_error(y, predictions))\n"
      ],
      "execution_count": 9,
      "outputs": [
        {
          "output_type": "stream",
          "text": [
            "Polynomial_regression\n",
            "29424.178930840484\n",
            "2430.964714160231\n",
            "8907.01308294266\n",
            "1522.1488249209815\n",
            "2893.736101089636\n",
            "6770.102730353388\n",
            "2041.4725664186901\n",
            "6477.164325923018\n",
            "5372.295891070098\n",
            "20803.245207454533\n",
            "15298.44853093642\n",
            "1962.5624611946096\n",
            "7112.152006451269\n",
            "7634.293652076497\n",
            "5374.38465717431\n",
            "9151.917398562302\n",
            "1841.073455580981\n",
            "6651.942585594879\n",
            "3984.3641970043195\n",
            "2571.353962408936\n",
            "1075.7929649889663\n",
            "20098.182467881135\n"
          ],
          "name": "stdout"
        }
      ]
    },
    {
      "cell_type": "code",
      "metadata": {
        "id": "6YXArc0cdRCZ",
        "outputId": "5b7e3c11-da37-4b4c-bdfc-1824a6c11dfc",
        "colab": {
          "base_uri": "https://localhost:8080/"
        }
      },
      "source": [
        "model_type = \"xgboost_squarederror\"\n",
        "print(model_type)\n",
        "for cat in list(client_table_tot.merchant_category.unique()):\n",
        "    client_table_specific = client_table_tot[client_table_tot[\"merchant_category\"] == cat]\n",
        "    X = client_table_specific[[\"client_id\", \"client_home_region_cat\", \"population\", \"gen_dummy\", \"client_year_of_birth\", \"amount_y\"]]\n",
        "    y = client_table_specific[\"amount_x\"]\n",
        "    \n",
        "    # Note the difference in argument order\n",
        "    model = xgb.XGBRegressor(objective=\"reg:squarederror\", random_state=42)\n",
        "    model = model.fit(X, y)\n",
        "    predictions = model.predict(X) # make the predictions by the model\n",
        "    dump(model,\n",
        "         f'/content/drive/My Drive/CS_HACKATHON/models/{model_type}_{cat}.joblib') \n",
        "    # Print out the statistics\n",
        "    print(cat, sklearn.metrics.mean_absolute_error(y, predictions))\n",
        "\n"
      ],
      "execution_count": 12,
      "outputs": [
        {
          "output_type": "stream",
          "text": [
            "xgboost_squarederror\n",
            "Atm 26419.581445364714\n",
            "Beauty 2360.355930314245\n",
            "Car 8252.313238775756\n",
            "Children 1460.2601022123613\n",
            "Consumer Goods 2794.9348523833223\n",
            "Digital Services 5292.024180780575\n",
            "Drugstore 1919.6977813355434\n",
            "Electronics 6226.692438763851\n",
            "Food And Drink 5195.08267599434\n",
            "Freetime 14915.40008716379\n",
            "Groceries 13712.494758004252\n",
            "Health 1892.8530598637801\n",
            "Professional Services 4643.825629452862\n",
            "Shopping Online 7435.687366900704\n",
            "Travel 5281.20816715055\n",
            "House And Garden 8846.426168281178\n",
            "Pets 1793.4864099101494\n",
            "Fashion 6422.292253235305\n",
            "Sport 3703.4400978059143\n",
            "Bills And Household 2304.631094447246\n",
            "Culture 1056.0432325739562\n",
            "Financial Services 16805.568190924005\n"
          ],
          "name": "stdout"
        }
      ]
    },
    {
      "cell_type": "code",
      "metadata": {
        "id": "Kj_NvQbquwlM"
      },
      "source": [
        "train_dataset = cat_1.sample(frac=0.8, random_state=0)\n",
        "test_dataset = cat_1.drop(train_dataset.index)\n"
      ],
      "execution_count": 65,
      "outputs": []
    },
    {
      "cell_type": "code",
      "metadata": {
        "id": "7BbWas3mvLhv"
      },
      "source": [
        "train_features = train_dataset.copy()\n",
        "test_features = test_dataset.copy()\n",
        "\n",
        "train_labels = train_features.pop('amount_x')\n",
        "test_labels = test_features.pop('amount_x')\n"
      ],
      "execution_count": 66,
      "outputs": []
    },
    {
      "cell_type": "code",
      "metadata": {
        "id": "P7ynNoo8vi1g",
        "outputId": "8a8edb0c-6c31-493b-f58a-1c2ed2386dca",
        "colab": {
          "base_uri": "https://localhost:8080/"
        }
      },
      "source": [
        "normalizer = preprocessing.Normalization()\n",
        "\n",
        "\n",
        "normalizer.adapt(np.array(train_features))\n",
        "\n",
        "\n",
        "print(normalizer.mean.numpy())\n"
      ],
      "execution_count": 67,
      "outputs": [
        {
          "output_type": "stream",
          "text": [
            "[ 543556.25     1980.8   -171851.7         0.487       0.007       0.008\n",
            "       0.006       0.053       0.008       0.006       0.006       0.004\n",
            "       0.006       0.004       0.002       0.01        0.013       0.005\n",
            "       0.321       0.005       0.017       0.008       0.002       0.01\n",
            "       0.004       0.004       0.005       0.023       0.014       0.004\n",
            "       0.007       0.005       0.004       0.016       0.008       0.005\n",
            "       0.017       0.006       0.006       0.014       0.008       0.006\n",
            "       0.025       0.011       0.049       0.015       0.004       0.001\n",
            "       0.026       0.002       0.002       0.01        0.008       0.008\n",
            "       0.003       0.01        0.008       0.005       0.002       0.005\n",
            "       0.003       0.004       0.002       0.005       0.003       0.011\n",
            "       0.006       0.006       0.007       0.006       0.008       0.004\n",
            "       0.013       0.006       0.009       0.009       0.007       0.02\n",
            "       0.002       0.009       0.007]\n"
          ],
          "name": "stdout"
        }
      ]
    },
    {
      "cell_type": "code",
      "metadata": {
        "id": "9BAZlzLNwTL3"
      },
      "source": [
        "horsepower = np.array(train_features['amount_y'])\n",
        "\n",
        "horsepower_normalizer = preprocessing.Normalization(input_shape=[1,])\n",
        "horsepower_normalizer.adapt(horsepower)\n"
      ],
      "execution_count": 68,
      "outputs": []
    },
    {
      "cell_type": "code",
      "metadata": {
        "id": "ZZz_oW6UxlrA",
        "outputId": "aee80715-c58b-481b-928f-440bb59e9af1",
        "colab": {
          "base_uri": "https://localhost:8080/"
        }
      },
      "source": [
        "horsepower_model = tf.keras.Sequential([\n",
        "    horsepower_normalizer,\n",
        "    layers.Dense(units=1)\n",
        "])\n",
        "\n",
        "horsepower_model.summary()\n"
      ],
      "execution_count": 69,
      "outputs": [
        {
          "output_type": "stream",
          "text": [
            "Model: \"sequential_1\"\n",
            "_________________________________________________________________\n",
            "Layer (type)                 Output Shape              Param #   \n",
            "=================================================================\n",
            "normalization_5 (Normalizati (None, 1)                 3         \n",
            "_________________________________________________________________\n",
            "dense_1 (Dense)              (None, 1)                 2         \n",
            "=================================================================\n",
            "Total params: 5\n",
            "Trainable params: 2\n",
            "Non-trainable params: 3\n",
            "_________________________________________________________________\n"
          ],
          "name": "stdout"
        }
      ]
    },
    {
      "cell_type": "code",
      "metadata": {
        "id": "50AWat8NxqFa",
        "outputId": "c76a05db-98a8-4851-adda-5d064e5e4006",
        "colab": {
          "base_uri": "https://localhost:8080/"
        }
      },
      "source": [
        "horsepower_model.predict(horsepower[:10])\n"
      ],
      "execution_count": 70,
      "outputs": [
        {
          "output_type": "execute_result",
          "data": {
            "text/plain": [
              "array([[ 0.07 ],\n",
              "       [-0.394],\n",
              "       [-0.545],\n",
              "       [-0.329],\n",
              "       [ 0.867],\n",
              "       [-0.275],\n",
              "       [-0.303],\n",
              "       [ 0.005],\n",
              "       [ 0.466],\n",
              "       [-0.35 ]], dtype=float32)"
            ]
          },
          "metadata": {
            "tags": []
          },
          "execution_count": 70
        }
      ]
    },
    {
      "cell_type": "code",
      "metadata": {
        "id": "Rhm47fYoxtwv"
      },
      "source": [
        "horsepower_model.compile(\n",
        "    optimizer=tf.optimizers.Adam(learning_rate=0.1),\n",
        "    loss='mean_absolute_error')\n"
      ],
      "execution_count": 71,
      "outputs": []
    },
    {
      "cell_type": "code",
      "metadata": {
        "id": "Gkvd_CkZxx-i"
      },
      "source": [
        "%%time\n",
        "history = horsepower_model.fit(\n",
        "    train_features['amount_y'], train_labels,\n",
        "    epochs=100,\n",
        "    # suppress logging\n",
        "    verbose=1,\n",
        "    # Calculate validation results on 20% of the training data\n",
        "    validation_split = 0.2)\n"
      ],
      "execution_count": null,
      "outputs": []
    },
    {
      "cell_type": "code",
      "metadata": {
        "id": "UCyBaqMYy3-I"
      },
      "source": [
        ""
      ],
      "execution_count": 60,
      "outputs": []
    },
    {
      "cell_type": "code",
      "metadata": {
        "id": "om7z4c1xy0-Y",
        "outputId": "3e9029ab-4901-4987-a1ac-2f4be819c455",
        "colab": {
          "base_uri": "https://localhost:8080/",
          "height": 279
        }
      },
      "source": [
        "def plot_loss(history):\n",
        "  plt.plot(history.history['loss'], label='loss')\n",
        "  plt.plot(history.history['val_loss'], label='val_loss')\n",
        "  plt.xlabel('Epoch')\n",
        "  plt.ylabel('Error [MPG]')\n",
        "  plt.legend()\n",
        "  plt.grid(True)\n",
        "\n",
        "plot_loss(history)\n"
      ],
      "execution_count": 74,
      "outputs": [
        {
          "output_type": "display_data",
          "data": {
            "image/png": "[encoded data removed]",
            "text/plain": [
              "<Figure size 432x288 with 1 Axes>"
            ]
          },
          "metadata": {
            "tags": [],
            "needs_background": "light"
          }
        }
      ]
    },
    {
      "cell_type": "code",
      "metadata": {
        "id": "EaSPpq9rzJr1",
        "outputId": "7a1df63b-85f1-447c-d7fd-a1db57dce3e9",
        "colab": {
          "base_uri": "https://localhost:8080/",
          "height": 279
        }
      },
      "source": [
        "x = tf.linspace(0.0, 250, 251)\n",
        "y = horsepower_model.predict(x)\n",
        "\n",
        "def plot_horsepower(x, y):\n",
        "  plt.scatter(train_features['amount_y'], train_labels, label='Data')\n",
        "  plt.plot(x, y, color='k', label='Predictions')\n",
        "  plt.xlabel('Horsepower')\n",
        "  plt.ylabel('MPG')\n",
        "  plt.legend()\n",
        "\n",
        "plot_horsepower(x,y)\n"
      ],
      "execution_count": 76,
      "outputs": [
        {
          "output_type": "display_data",
          "data": {
            "image/png": "[encoded data removed]",
            "text/plain": [
              "<Figure size 432x288 with 1 Axes>"
            ]
          },
          "metadata": {
            "tags": [],
            "needs_background": "light"
          }
        }
      ]
    },
    {
      "cell_type": "code",
      "metadata": {
        "id": "OgoxIlcH0rdW"
      },
      "source": [
        "linear_model = tf.keras.Sequential([\n",
        "    normalizer,\n",
        "    layers.Dense(units=1)\n",
        "])\n"
      ],
      "execution_count": 77,
      "outputs": []
    },
    {
      "cell_type": "code",
      "metadata": {
        "id": "F75sFnVl0q6u",
        "outputId": "545b7859-ed01-419f-809a-cb9ff33c8849",
        "colab": {
          "base_uri": "https://localhost:8080/"
        }
      },
      "source": [
        "linear_model.predict(train_features[:10])\n"
      ],
      "execution_count": 78,
      "outputs": [
        {
          "output_type": "execute_result",
          "data": {
            "text/plain": [
              "array([[-1.647],\n",
              "       [-0.052],\n",
              "       [ 0.454],\n",
              "       [-0.396],\n",
              "       [ 0.5  ],\n",
              "       [-2.575],\n",
              "       [ 0.701],\n",
              "       [ 0.017],\n",
              "       [ 0.797],\n",
              "       [-2.701]], dtype=float32)"
            ]
          },
          "metadata": {
            "tags": []
          },
          "execution_count": 78
        }
      ]
    },
    {
      "cell_type": "code",
      "metadata": {
        "id": "mBwaj3tY00qC",
        "outputId": "df5e2738-5a86-4c78-f0cb-dadb193821c8",
        "colab": {
          "base_uri": "https://localhost:8080/"
        }
      },
      "source": [
        "linear_model.layers[1].kernel"
      ],
      "execution_count": 79,
      "outputs": [
        {
          "output_type": "execute_result",
          "data": {
            "text/plain": [
              "<tf.Variable 'dense_2/kernel:0' shape=(81, 1) dtype=float32, numpy=\n",
              "array([[ 0.018],\n",
              "       [ 0.2  ],\n",
              "       [-0.118],\n",
              "       [-0.053],\n",
              "       [ 0.012],\n",
              "       [ 0.263],\n",
              "       [ 0.17 ],\n",
              "       [ 0.121],\n",
              "       [-0.211],\n",
              "       [-0.086],\n",
              "       [-0.189],\n",
              "       [-0.142],\n",
              "       [ 0.168],\n",
              "       [ 0.206],\n",
              "       [ 0.203],\n",
              "       [ 0.111],\n",
              "       [-0.034],\n",
              "       [ 0.101],\n",
              "       [ 0.14 ],\n",
              "       [ 0.048],\n",
              "       [-0.151],\n",
              "       [ 0.105],\n",
              "       [ 0.15 ],\n",
              "       [ 0.222],\n",
              "       [ 0.122],\n",
              "       [-0.099],\n",
              "       [ 0.181],\n",
              "       [-0.031],\n",
              "       [-0.264],\n",
              "       [ 0.083],\n",
              "       [ 0.123],\n",
              "       [ 0.111],\n",
              "       [ 0.102],\n",
              "       [ 0.074],\n",
              "       [ 0.028],\n",
              "       [-0.198],\n",
              "       [-0.173],\n",
              "       [-0.171],\n",
              "       [ 0.208],\n",
              "       [ 0.016],\n",
              "       [ 0.257],\n",
              "       [-0.242],\n",
              "       [-0.021],\n",
              "       [ 0.008],\n",
              "       [ 0.158],\n",
              "       [ 0.157],\n",
              "       [-0.112],\n",
              "       [ 0.067],\n",
              "       [ 0.023],\n",
              "       [ 0.006],\n",
              "       [-0.044],\n",
              "       [-0.009],\n",
              "       [ 0.146],\n",
              "       [ 0.111],\n",
              "       [ 0.269],\n",
              "       [ 0.219],\n",
              "       [-0.096],\n",
              "       [ 0.051],\n",
              "       [ 0.039],\n",
              "       [ 0.183],\n",
              "       [-0.209],\n",
              "       [ 0.184],\n",
              "       [-0.234],\n",
              "       [ 0.124],\n",
              "       [ 0.152],\n",
              "       [ 0.142],\n",
              "       [ 0.069],\n",
              "       [-0.101],\n",
              "       [ 0.093],\n",
              "       [-0.228],\n",
              "       [-0.153],\n",
              "       [ 0.136],\n",
              "       [-0.266],\n",
              "       [ 0.074],\n",
              "       [-0.042],\n",
              "       [-0.114],\n",
              "       [-0.139],\n",
              "       [ 0.103],\n",
              "       [-0.127],\n",
              "       [-0.176],\n",
              "       [-0.006]], dtype=float32)>"
            ]
          },
          "metadata": {
            "tags": []
          },
          "execution_count": 79
        }
      ]
    },
    {
      "cell_type": "code",
      "metadata": {
        "id": "7aTGAtLJ06Ph"
      },
      "source": [
        "linear_model.compile(\n",
        "    optimizer=tf.optimizers.Adam(learning_rate=0.1),\n",
        "    loss='mean_absolute_error')\n",
        "\n"
      ],
      "execution_count": 82,
      "outputs": []
    },
    {
      "cell_type": "code",
      "metadata": {
        "id": "TRIw-Q_w0-kE",
        "outputId": "d42f2ecc-6210-4c90-f252-be0991ba2000",
        "colab": {
          "base_uri": "https://localhost:8080/"
        }
      },
      "source": [
        "\n",
        "%%time\n",
        "history = linear_model.fit(\n",
        "    train_features, train_labels, \n",
        "    epochs=30,\n",
        "    # suppress logging\n",
        "    verbose=1,\n",
        "    # Calculate validation results on 20% of the training data\n",
        "    validation_split = 0.2)"
      ],
      "execution_count": 86,
      "outputs": [
        {
          "output_type": "stream",
          "text": [
            "Epoch 1/30\n",
            "833/833 [==============================] - 1s 1ms/step - loss: 1821.4550 - val_loss: 1864.7516\n",
            "Epoch 2/30\n",
            "833/833 [==============================] - 1s 1ms/step - loss: 1821.4642 - val_loss: 1864.6749\n",
            "Epoch 3/30\n",
            "833/833 [==============================] - 1s 1ms/step - loss: 1821.4319 - val_loss: 1864.6156\n",
            "Epoch 4/30\n",
            "833/833 [==============================] - 1s 1ms/step - loss: 1821.4460 - val_loss: 1864.5985\n",
            "Epoch 5/30\n",
            "833/833 [==============================] - 1s 1ms/step - loss: 1821.4441 - val_loss: 1864.5874\n",
            "Epoch 6/30\n",
            "833/833 [==============================] - 1s 1ms/step - loss: 1821.4253 - val_loss: 1864.5963\n",
            "Epoch 7/30\n",
            "833/833 [==============================] - 1s 1ms/step - loss: 1821.4344 - val_loss: 1864.5946\n",
            "Epoch 8/30\n",
            "833/833 [==============================] - 1s 1ms/step - loss: 1821.4346 - val_loss: 1864.6404\n",
            "Epoch 9/30\n",
            "833/833 [==============================] - 1s 1ms/step - loss: 1821.4358 - val_loss: 1864.7253\n",
            "Epoch 10/30\n",
            "833/833 [==============================] - 1s 1ms/step - loss: 1821.4449 - val_loss: 1864.6981\n",
            "Epoch 11/30\n",
            "833/833 [==============================] - 1s 1ms/step - loss: 1821.4417 - val_loss: 1864.6527\n",
            "Epoch 12/30\n",
            "833/833 [==============================] - 1s 1ms/step - loss: 1821.4308 - val_loss: 1864.7915\n",
            "Epoch 13/30\n",
            "833/833 [==============================] - 1s 1ms/step - loss: 1821.4612 - val_loss: 1864.7179\n",
            "Epoch 14/30\n",
            "833/833 [==============================] - 1s 1ms/step - loss: 1821.4509 - val_loss: 1864.6735\n",
            "Epoch 15/30\n",
            "833/833 [==============================] - 1s 1ms/step - loss: 1821.4486 - val_loss: 1864.6532\n",
            "Epoch 16/30\n",
            "833/833 [==============================] - 1s 1ms/step - loss: 1821.4594 - val_loss: 1864.6637\n",
            "Epoch 17/30\n",
            "833/833 [==============================] - 1s 1ms/step - loss: 1821.4529 - val_loss: 1864.6344\n",
            "Epoch 18/30\n",
            "833/833 [==============================] - 1s 1ms/step - loss: 1821.4054 - val_loss: 1864.5601\n",
            "Epoch 19/30\n",
            "833/833 [==============================] - 1s 1ms/step - loss: 1821.4237 - val_loss: 1864.6827\n",
            "Epoch 20/30\n",
            "833/833 [==============================] - 1s 1ms/step - loss: 1821.4530 - val_loss: 1864.6362\n",
            "Epoch 21/30\n",
            "833/833 [==============================] - 1s 1ms/step - loss: 1821.4292 - val_loss: 1864.6158\n",
            "Epoch 22/30\n",
            "833/833 [==============================] - 1s 1ms/step - loss: 1821.4296 - val_loss: 1864.5898\n",
            "Epoch 23/30\n",
            "833/833 [==============================] - 1s 1ms/step - loss: 1821.4460 - val_loss: 1864.6074\n",
            "Epoch 24/30\n",
            "833/833 [==============================] - 1s 1ms/step - loss: 1821.4296 - val_loss: 1864.6383\n",
            "Epoch 25/30\n",
            "833/833 [==============================] - 1s 1ms/step - loss: 1821.4541 - val_loss: 1864.6382\n",
            "Epoch 26/30\n",
            "833/833 [==============================] - 1s 1ms/step - loss: 1821.4320 - val_loss: 1864.6691\n",
            "Epoch 27/30\n",
            "833/833 [==============================] - 1s 1ms/step - loss: 1821.4307 - val_loss: 1864.7181\n",
            "Epoch 28/30\n",
            "833/833 [==============================] - 1s 1ms/step - loss: 1821.4530 - val_loss: 1864.8232\n",
            "Epoch 29/30\n",
            "833/833 [==============================] - 1s 1ms/step - loss: 1821.4487 - val_loss: 1864.7948\n",
            "Epoch 30/30\n",
            "833/833 [==============================] - 1s 1ms/step - loss: 1821.4374 - val_loss: 1864.7867\n",
            "CPU times: user 34.1 s, sys: 3.37 s, total: 37.4 s\n",
            "Wall time: 29.6 s\n"
          ],
          "name": "stdout"
        }
      ]
    },
    {
      "cell_type": "code",
      "metadata": {
        "id": "9Fh5qsBG1sbd",
        "outputId": "f8890bff-0c79-4b1f-a456-26d38c4dde8e",
        "colab": {
          "base_uri": "https://localhost:8080/",
          "height": 279
        }
      },
      "source": [
        "plot_loss(history)"
      ],
      "execution_count": 87,
      "outputs": [
        {
          "output_type": "display_data",
          "data": {
            "image/png": "[encoded data removed]",
            "text/plain": [
              "<Figure size 432x288 with 1 Axes>"
            ]
          },
          "metadata": {
            "tags": [],
            "needs_background": "light"
          }
        }
      ]
    },
    {
      "cell_type": "code",
      "metadata": {
        "id": "4IQaQU7M3400"
      },
      "source": [
        "test_results = {}\n",
        "\n",
        "test_results['horsepower_model'] = horsepower_model.evaluate(\n",
        "    test_features['amount_y'],\n",
        "    test_labels, verbose=0)\n"
      ],
      "execution_count": 98,
      "outputs": []
    },
    {
      "cell_type": "code",
      "metadata": {
        "id": "L2gMQQYjB-l5",
        "outputId": "22dcbe2c-906d-43d2-b585-c41e6a0e8e72",
        "colab": {
          "base_uri": "https://localhost:8080/"
        }
      },
      "source": [
        "normalizer = preprocessing.Normalization()\n",
        "\n",
        "\n",
        "normalizer.adapt(np.array(train_features))\n",
        "\n",
        "dnn_model = build_and_compile_model(normalizer)\n",
        "dnn_model.summary()\n"
      ],
      "execution_count": 143,
      "outputs": [
        {
          "output_type": "stream",
          "text": [
            "Model: \"sequential_5\"\n",
            "_________________________________________________________________\n",
            "Layer (type)                 Output Shape              Param #   \n",
            "=================================================================\n",
            "normalization_6 (Normalizati (None, 81)                163       \n",
            "_________________________________________________________________\n",
            "dense_9 (Dense)              (None, 64)                5248      \n",
            "_________________________________________________________________\n",
            "dense_10 (Dense)             (None, 64)                4160      \n",
            "_________________________________________________________________\n",
            "dense_11 (Dense)             (None, 1)                 65        \n",
            "=================================================================\n",
            "Total params: 9,636\n",
            "Trainable params: 9,473\n",
            "Non-trainable params: 163\n",
            "_________________________________________________________________\n"
          ],
          "name": "stdout"
        }
      ]
    },
    {
      "cell_type": "code",
      "metadata": {
        "id": "BcnOpB1z3AWn"
      },
      "source": [
        "def build_and_compile_model(norm):\n",
        "  model = keras.Sequential([\n",
        "      norm,\n",
        "      layers.Dense(64, activation='relu'),\n",
        "      layers.Dense(64, activation='relu'),\n",
        "      layers.Dense(1)\n",
        "  ])\n",
        "\n",
        "  model.compile(loss='mean_absolute_error',\n",
        "                optimizer=tf.keras.optimizers.Adam(0.001))\n",
        "  return model"
      ],
      "execution_count": 88,
      "outputs": []
    },
    {
      "cell_type": "code",
      "metadata": {
        "id": "XIp6dUPm3Drg"
      },
      "source": [
        "dnn_horsepower_model = build_and_compile_model(horsepower_normalizer)\n"
      ],
      "execution_count": 89,
      "outputs": []
    },
    {
      "cell_type": "code",
      "metadata": {
        "id": "8dkULApY3GfC",
        "outputId": "a1da2047-661a-4cbd-d378-8d39c7fad241",
        "colab": {
          "base_uri": "https://localhost:8080/"
        }
      },
      "source": [
        "dnn_horsepower_model.summary()\n"
      ],
      "execution_count": 90,
      "outputs": [
        {
          "output_type": "stream",
          "text": [
            "Model: \"sequential_3\"\n",
            "_________________________________________________________________\n",
            "Layer (type)                 Output Shape              Param #   \n",
            "=================================================================\n",
            "normalization_5 (Normalizati (None, 1)                 3         \n",
            "_________________________________________________________________\n",
            "dense_3 (Dense)              (None, 64)                128       \n",
            "_________________________________________________________________\n",
            "dense_4 (Dense)              (None, 64)                4160      \n",
            "_________________________________________________________________\n",
            "dense_5 (Dense)              (None, 1)                 65        \n",
            "=================================================================\n",
            "Total params: 4,356\n",
            "Trainable params: 4,353\n",
            "Non-trainable params: 3\n",
            "_________________________________________________________________\n"
          ],
          "name": "stdout"
        }
      ]
    },
    {
      "cell_type": "code",
      "metadata": {
        "id": "qiVL8wA83KLu",
        "outputId": "7f2d753a-0aa6-4f75-c6ca-95586c869b5d",
        "colab": {
          "base_uri": "https://localhost:8080/"
        }
      },
      "source": [
        "%%time\n",
        "history = dnn_horsepower_model.fit(\n",
        "    train_features['amount_y'], train_labels,\n",
        "    validation_split=0.2,\n",
        "    verbose=1, epochs=100)\n"
      ],
      "execution_count": 92,
      "outputs": [
        {
          "output_type": "stream",
          "text": [
            "Epoch 1/100\n",
            "833/833 [==============================] - 1s 1ms/step - loss: 2369.9524 - val_loss: 2137.9910\n",
            "Epoch 2/100\n",
            "833/833 [==============================] - 1s 1ms/step - loss: 2085.6980 - val_loss: 2132.3999\n",
            "Epoch 3/100\n",
            "833/833 [==============================] - 1s 1ms/step - loss: 2082.2898 - val_loss: 2130.6909\n",
            "Epoch 4/100\n",
            "833/833 [==============================] - 1s 1ms/step - loss: 2081.1677 - val_loss: 2129.8784\n",
            "Epoch 5/100\n",
            "833/833 [==============================] - 1s 1ms/step - loss: 2080.4468 - val_loss: 2128.5210\n",
            "Epoch 6/100\n",
            "833/833 [==============================] - 1s 1ms/step - loss: 2079.6504 - val_loss: 2128.1970\n",
            "Epoch 7/100\n",
            "833/833 [==============================] - 1s 1ms/step - loss: 2079.2876 - val_loss: 2127.0239\n",
            "Epoch 8/100\n",
            "833/833 [==============================] - 1s 1ms/step - loss: 2078.8176 - val_loss: 2126.3894\n",
            "Epoch 9/100\n",
            "833/833 [==============================] - 1s 1ms/step - loss: 2077.9839 - val_loss: 2125.5620\n",
            "Epoch 10/100\n",
            "833/833 [==============================] - 1s 1ms/step - loss: 2077.4888 - val_loss: 2125.7991\n",
            "Epoch 11/100\n",
            "833/833 [==============================] - 1s 1ms/step - loss: 2077.1106 - val_loss: 2124.6875\n",
            "Epoch 12/100\n",
            "833/833 [==============================] - 1s 1ms/step - loss: 2076.3972 - val_loss: 2125.0977\n",
            "Epoch 13/100\n",
            "833/833 [==============================] - 1s 1ms/step - loss: 2075.8013 - val_loss: 2124.1560\n",
            "Epoch 14/100\n",
            "833/833 [==============================] - 1s 1ms/step - loss: 2075.2197 - val_loss: 2122.9250\n",
            "Epoch 15/100\n",
            "833/833 [==============================] - 1s 1ms/step - loss: 2074.7073 - val_loss: 2123.0544\n",
            "Epoch 16/100\n",
            "833/833 [==============================] - 1s 1ms/step - loss: 2074.1831 - val_loss: 2122.2466\n",
            "Epoch 17/100\n",
            "833/833 [==============================] - 1s 1ms/step - loss: 2073.5332 - val_loss: 2121.8069\n",
            "Epoch 18/100\n",
            "833/833 [==============================] - 1s 1ms/step - loss: 2072.6733 - val_loss: 2120.7168\n",
            "Epoch 19/100\n",
            "833/833 [==============================] - 1s 1ms/step - loss: 2072.5054 - val_loss: 2120.6304\n",
            "Epoch 20/100\n",
            "833/833 [==============================] - 1s 1ms/step - loss: 2071.9971 - val_loss: 2120.0894\n",
            "Epoch 21/100\n",
            "833/833 [==============================] - 1s 1ms/step - loss: 2071.3704 - val_loss: 2120.4875\n",
            "Epoch 22/100\n",
            "833/833 [==============================] - 1s 1ms/step - loss: 2071.0103 - val_loss: 2120.2590\n",
            "Epoch 23/100\n",
            "833/833 [==============================] - 1s 1ms/step - loss: 2070.6626 - val_loss: 2119.6606\n",
            "Epoch 24/100\n",
            "833/833 [==============================] - 1s 1ms/step - loss: 2070.4365 - val_loss: 2118.8372\n",
            "Epoch 25/100\n",
            "833/833 [==============================] - 1s 1ms/step - loss: 2070.1643 - val_loss: 2118.4004\n",
            "Epoch 26/100\n",
            "833/833 [==============================] - 1s 1ms/step - loss: 2069.8745 - val_loss: 2118.7649\n",
            "Epoch 27/100\n",
            "833/833 [==============================] - 1s 1ms/step - loss: 2069.4331 - val_loss: 2118.4546\n",
            "Epoch 28/100\n",
            "833/833 [==============================] - 1s 1ms/step - loss: 2069.3860 - val_loss: 2118.1658\n",
            "Epoch 29/100\n",
            "833/833 [==============================] - 1s 1ms/step - loss: 2069.3438 - val_loss: 2118.6448\n",
            "Epoch 30/100\n",
            "833/833 [==============================] - 1s 1ms/step - loss: 2069.1030 - val_loss: 2119.7769\n",
            "Epoch 31/100\n",
            "833/833 [==============================] - 1s 1ms/step - loss: 2069.2314 - val_loss: 2118.0828\n",
            "Epoch 32/100\n",
            "833/833 [==============================] - 1s 1ms/step - loss: 2069.1282 - val_loss: 2118.9783\n",
            "Epoch 33/100\n",
            "833/833 [==============================] - 1s 1ms/step - loss: 2069.3057 - val_loss: 2118.1321\n",
            "Epoch 34/100\n",
            "833/833 [==============================] - 1s 1ms/step - loss: 2069.0012 - val_loss: 2118.8079\n",
            "Epoch 35/100\n",
            "833/833 [==============================] - 1s 1ms/step - loss: 2068.9429 - val_loss: 2118.2578\n",
            "Epoch 36/100\n",
            "833/833 [==============================] - 1s 1ms/step - loss: 2068.9563 - val_loss: 2118.1157\n",
            "Epoch 37/100\n",
            "833/833 [==============================] - 1s 1ms/step - loss: 2068.9070 - val_loss: 2118.4441\n",
            "Epoch 38/100\n",
            "833/833 [==============================] - 1s 1ms/step - loss: 2068.9492 - val_loss: 2117.9963\n",
            "Epoch 39/100\n",
            "833/833 [==============================] - 1s 1ms/step - loss: 2068.7737 - val_loss: 2120.4006\n",
            "Epoch 40/100\n",
            "833/833 [==============================] - 1s 1ms/step - loss: 2069.1106 - val_loss: 2118.2271\n",
            "Epoch 41/100\n",
            "833/833 [==============================] - 1s 1ms/step - loss: 2068.7676 - val_loss: 2118.8442\n",
            "Epoch 42/100\n",
            "833/833 [==============================] - 1s 1ms/step - loss: 2068.8967 - val_loss: 2118.9319\n",
            "Epoch 43/100\n",
            "833/833 [==============================] - 1s 1ms/step - loss: 2068.9885 - val_loss: 2118.0142\n",
            "Epoch 44/100\n",
            "833/833 [==============================] - 1s 1ms/step - loss: 2068.8245 - val_loss: 2118.2029\n",
            "Epoch 45/100\n",
            "833/833 [==============================] - 1s 1ms/step - loss: 2068.8181 - val_loss: 2118.4248\n",
            "Epoch 46/100\n",
            "833/833 [==============================] - 1s 1ms/step - loss: 2068.8284 - val_loss: 2117.7981\n",
            "Epoch 47/100\n",
            "833/833 [==============================] - 1s 1ms/step - loss: 2068.8003 - val_loss: 2117.8936\n",
            "Epoch 48/100\n",
            "833/833 [==============================] - 1s 1ms/step - loss: 2068.5605 - val_loss: 2118.2439\n",
            "Epoch 49/100\n",
            "833/833 [==============================] - 1s 1ms/step - loss: 2068.8989 - val_loss: 2118.1785\n",
            "Epoch 50/100\n",
            "833/833 [==============================] - 1s 1ms/step - loss: 2068.8767 - val_loss: 2117.8625\n",
            "Epoch 51/100\n",
            "833/833 [==============================] - 1s 1ms/step - loss: 2068.6631 - val_loss: 2117.6648\n",
            "Epoch 52/100\n",
            "833/833 [==============================] - 1s 1ms/step - loss: 2068.7241 - val_loss: 2118.3186\n",
            "Epoch 53/100\n",
            "833/833 [==============================] - 1s 1ms/step - loss: 2068.7715 - val_loss: 2117.9023\n",
            "Epoch 54/100\n",
            "833/833 [==============================] - 1s 1ms/step - loss: 2068.5063 - val_loss: 2118.9631\n",
            "Epoch 55/100\n",
            "833/833 [==============================] - 1s 1ms/step - loss: 2068.8621 - val_loss: 2117.9011\n",
            "Epoch 56/100\n",
            "833/833 [==============================] - 1s 1ms/step - loss: 2068.7136 - val_loss: 2118.2476\n",
            "Epoch 57/100\n",
            "833/833 [==============================] - 1s 1ms/step - loss: 2068.5945 - val_loss: 2117.6638\n",
            "Epoch 58/100\n",
            "833/833 [==============================] - 1s 1ms/step - loss: 2068.7268 - val_loss: 2119.0076\n",
            "Epoch 59/100\n",
            "833/833 [==============================] - 1s 1ms/step - loss: 2068.4680 - val_loss: 2120.7603\n",
            "Epoch 60/100\n",
            "833/833 [==============================] - 1s 1ms/step - loss: 2068.9573 - val_loss: 2118.5317\n",
            "Epoch 61/100\n",
            "833/833 [==============================] - 1s 1ms/step - loss: 2068.6194 - val_loss: 2119.3811\n",
            "Epoch 62/100\n",
            "833/833 [==============================] - 1s 1ms/step - loss: 2068.7295 - val_loss: 2117.7722\n",
            "Epoch 63/100\n",
            "833/833 [==============================] - 1s 1ms/step - loss: 2068.6167 - val_loss: 2117.8813\n",
            "Epoch 64/100\n",
            "833/833 [==============================] - 1s 1ms/step - loss: 2068.7229 - val_loss: 2118.4717\n",
            "Epoch 65/100\n",
            "833/833 [==============================] - 1s 1ms/step - loss: 2068.5007 - val_loss: 2119.8875\n",
            "Epoch 66/100\n",
            "833/833 [==============================] - 1s 1ms/step - loss: 2068.8257 - val_loss: 2117.7224\n",
            "Epoch 67/100\n",
            "833/833 [==============================] - 1s 1ms/step - loss: 2068.8052 - val_loss: 2118.4207\n",
            "Epoch 68/100\n",
            "833/833 [==============================] - 1s 1ms/step - loss: 2068.6589 - val_loss: 2118.7031\n",
            "Epoch 69/100\n",
            "833/833 [==============================] - 1s 1ms/step - loss: 2068.8210 - val_loss: 2117.3225\n",
            "Epoch 70/100\n",
            "833/833 [==============================] - 1s 1ms/step - loss: 2068.5222 - val_loss: 2119.5374\n",
            "Epoch 71/100\n",
            "833/833 [==============================] - 1s 1ms/step - loss: 2068.4729 - val_loss: 2120.6257\n",
            "Epoch 72/100\n",
            "833/833 [==============================] - 1s 1ms/step - loss: 2068.8826 - val_loss: 2117.3418\n",
            "Epoch 73/100\n",
            "833/833 [==============================] - 1s 1ms/step - loss: 2068.7979 - val_loss: 2117.3818\n",
            "Epoch 74/100\n",
            "833/833 [==============================] - 1s 1ms/step - loss: 2068.6538 - val_loss: 2118.0093\n",
            "Epoch 75/100\n",
            "833/833 [==============================] - 1s 2ms/step - loss: 2068.7803 - val_loss: 2117.9280\n",
            "Epoch 76/100\n",
            "833/833 [==============================] - 1s 1ms/step - loss: 2068.6121 - val_loss: 2117.5471\n",
            "Epoch 77/100\n",
            "833/833 [==============================] - 1s 1ms/step - loss: 2068.7078 - val_loss: 2117.6348\n",
            "Epoch 78/100\n",
            "833/833 [==============================] - 1s 1ms/step - loss: 2068.7227 - val_loss: 2117.3938\n",
            "Epoch 79/100\n",
            "833/833 [==============================] - 1s 1ms/step - loss: 2068.5774 - val_loss: 2118.1704\n",
            "Epoch 80/100\n",
            "833/833 [==============================] - 1s 1ms/step - loss: 2068.7041 - val_loss: 2117.8127\n",
            "Epoch 81/100\n",
            "833/833 [==============================] - 1s 1ms/step - loss: 2068.7776 - val_loss: 2118.1216\n",
            "Epoch 82/100\n",
            "833/833 [==============================] - 1s 1ms/step - loss: 2068.6624 - val_loss: 2117.4470\n",
            "Epoch 83/100\n",
            "833/833 [==============================] - 1s 1ms/step - loss: 2068.5229 - val_loss: 2117.1885\n",
            "Epoch 84/100\n",
            "833/833 [==============================] - 1s 1ms/step - loss: 2068.6760 - val_loss: 2117.0510\n",
            "Epoch 85/100\n",
            "833/833 [==============================] - 1s 1ms/step - loss: 2068.4829 - val_loss: 2117.0627\n",
            "Epoch 86/100\n",
            "833/833 [==============================] - 1s 1ms/step - loss: 2068.7195 - val_loss: 2117.1091\n",
            "Epoch 87/100\n",
            "833/833 [==============================] - 1s 1ms/step - loss: 2068.5417 - val_loss: 2117.7463\n",
            "Epoch 88/100\n",
            "833/833 [==============================] - 1s 1ms/step - loss: 2068.7839 - val_loss: 2117.5671\n",
            "Epoch 89/100\n",
            "833/833 [==============================] - 1s 1ms/step - loss: 2068.6716 - val_loss: 2117.4849\n",
            "Epoch 90/100\n",
            "833/833 [==============================] - 1s 1ms/step - loss: 2068.5332 - val_loss: 2117.7202\n",
            "Epoch 91/100\n",
            "833/833 [==============================] - 1s 1ms/step - loss: 2068.5400 - val_loss: 2118.1230\n",
            "Epoch 92/100\n",
            "833/833 [==============================] - 1s 1ms/step - loss: 2068.6531 - val_loss: 2117.4546\n",
            "Epoch 93/100\n",
            "833/833 [==============================] - 1s 1ms/step - loss: 2068.4194 - val_loss: 2116.9822\n",
            "Epoch 94/100\n",
            "833/833 [==============================] - 1s 1ms/step - loss: 2068.8013 - val_loss: 2117.6021\n",
            "Epoch 95/100\n",
            "833/833 [==============================] - 1s 1ms/step - loss: 2068.7461 - val_loss: 2117.6511\n",
            "Epoch 96/100\n",
            "833/833 [==============================] - 1s 1ms/step - loss: 2068.6125 - val_loss: 2117.2000\n",
            "Epoch 97/100\n",
            "833/833 [==============================] - 1s 1ms/step - loss: 2068.3945 - val_loss: 2119.1829\n",
            "Epoch 98/100\n",
            "833/833 [==============================] - 1s 1ms/step - loss: 2068.7385 - val_loss: 2117.3523\n",
            "Epoch 99/100\n",
            "833/833 [==============================] - 1s 1ms/step - loss: 2068.4426 - val_loss: 2117.2305\n",
            "Epoch 100/100\n",
            "833/833 [==============================] - 1s 1ms/step - loss: 2068.5308 - val_loss: 2117.1680\n",
            "CPU times: user 2min 8s, sys: 11.6 s, total: 2min 19s\n",
            "Wall time: 1min 49s\n"
          ],
          "name": "stdout"
        }
      ]
    },
    {
      "cell_type": "code",
      "metadata": {
        "id": "RsZ-hVE63XyD",
        "outputId": "2fdb9251-b84a-4ad5-f48c-911f5f78e7ec",
        "colab": {
          "base_uri": "https://localhost:8080/",
          "height": 279
        }
      },
      "source": [
        "plot_loss(history)\n"
      ],
      "execution_count": 93,
      "outputs": [
        {
          "output_type": "display_data",
          "data": {
            "image/png": "[encoded data removed]",
            "text/plain": [
              "<Figure size 432x288 with 1 Axes>"
            ]
          },
          "metadata": {
            "tags": [],
            "needs_background": "light"
          }
        }
      ]
    },
    {
      "cell_type": "code",
      "metadata": {
        "id": "gYbIRfqH3cbE",
        "outputId": "be62a2d5-7b5f-4364-ee9a-4180084bf96e",
        "colab": {
          "base_uri": "https://localhost:8080/",
          "height": 279
        }
      },
      "source": [
        "x = tf.linspace(0.0, 50000, 50000)\n",
        "y = dnn_horsepower_model.predict(x)\n",
        "\n",
        "plot_horsepower(x, y)\n"
      ],
      "execution_count": 96,
      "outputs": [
        {
          "output_type": "display_data",
          "data": {
            "image/png": "[encoded data removed]",
            "text/plain": [
              "<Figure size 432x288 with 1 Axes>"
            ]
          },
          "metadata": {
            "tags": [],
            "needs_background": "light"
          }
        }
      ]
    },
    {
      "cell_type": "code",
      "metadata": {
        "id": "eAR_2AgR3iuS"
      },
      "source": [
        "test_results['dnn_horsepower_model'] = dnn_horsepower_model.evaluate(\n",
        "    test_features['amount_y'], test_labels,\n",
        "    verbose=0)\n"
      ],
      "execution_count": 99,
      "outputs": []
    },
    {
      "cell_type": "code",
      "metadata": {
        "id": "G8erxgk33pRB",
        "outputId": "87724286-db0b-40fe-c8ca-7b56c0e1297f",
        "colab": {
          "base_uri": "https://localhost:8080/"
        }
      },
      "source": [
        ""
      ],
      "execution_count": 100,
      "outputs": [
        {
          "output_type": "stream",
          "text": [
            "Model: \"sequential_4\"\n",
            "_________________________________________________________________\n",
            "Layer (type)                 Output Shape              Param #   \n",
            "=================================================================\n",
            "normalization_4 (Normalizati (None, 81)                163       \n",
            "_________________________________________________________________\n",
            "dense_6 (Dense)              (None, 64)                5248      \n",
            "_________________________________________________________________\n",
            "dense_7 (Dense)              (None, 64)                4160      \n",
            "_________________________________________________________________\n",
            "dense_8 (Dense)              (None, 1)                 65        \n",
            "=================================================================\n",
            "Total params: 9,636\n",
            "Trainable params: 9,473\n",
            "Non-trainable params: 163\n",
            "_________________________________________________________________\n"
          ],
          "name": "stdout"
        }
      ]
    },
    {
      "cell_type": "code",
      "metadata": {
        "id": "qKRGutCB4H9E",
        "outputId": "a98f8583-2256-4902-b7f8-a2242ea2e1cb",
        "colab": {
          "base_uri": "https://localhost:8080/"
        }
      },
      "source": [
        "%%time\n",
        "history = dnn_model.fit(\n",
        "    train_features, train_labels,\n",
        "    validation_split=0.2,\n",
        "    verbose=1, epochs=100)\n"
      ],
      "execution_count": 102,
      "outputs": [
        {
          "output_type": "stream",
          "text": [
            "Epoch 1/100\n",
            "833/833 [==============================] - 1s 1ms/step - loss: 1809.4878 - val_loss: 1853.8969\n",
            "Epoch 2/100\n",
            "833/833 [==============================] - 1s 1ms/step - loss: 1808.5790 - val_loss: 1850.3824\n",
            "Epoch 3/100\n",
            "833/833 [==============================] - 1s 1ms/step - loss: 1806.9427 - val_loss: 1848.9653\n",
            "Epoch 4/100\n",
            "833/833 [==============================] - 1s 1ms/step - loss: 1805.7120 - val_loss: 1847.7303\n",
            "Epoch 5/100\n",
            "833/833 [==============================] - 1s 1ms/step - loss: 1804.3109 - val_loss: 1846.4878\n",
            "Epoch 6/100\n",
            "833/833 [==============================] - 1s 1ms/step - loss: 1803.2025 - val_loss: 1845.9323\n",
            "Epoch 7/100\n",
            "833/833 [==============================] - 1s 1ms/step - loss: 1801.8116 - val_loss: 1844.6602\n",
            "Epoch 8/100\n",
            "833/833 [==============================] - 1s 1ms/step - loss: 1799.9473 - val_loss: 1842.0553\n",
            "Epoch 9/100\n",
            "833/833 [==============================] - 1s 1ms/step - loss: 1798.4796 - val_loss: 1841.3618\n",
            "Epoch 10/100\n",
            "833/833 [==============================] - 1s 1ms/step - loss: 1797.0757 - val_loss: 1840.1683\n",
            "Epoch 11/100\n",
            "833/833 [==============================] - 1s 1ms/step - loss: 1795.6635 - val_loss: 1840.5868\n",
            "Epoch 12/100\n",
            "833/833 [==============================] - 1s 1ms/step - loss: 1794.7451 - val_loss: 1838.5989\n",
            "Epoch 13/100\n",
            "833/833 [==============================] - 1s 1ms/step - loss: 1793.1194 - val_loss: 1839.2234\n",
            "Epoch 14/100\n",
            "833/833 [==============================] - 1s 1ms/step - loss: 1791.8527 - val_loss: 1837.1805\n",
            "Epoch 15/100\n",
            "833/833 [==============================] - 1s 1ms/step - loss: 1790.6071 - val_loss: 1837.1310\n",
            "Epoch 16/100\n",
            "833/833 [==============================] - 1s 1ms/step - loss: 1789.8586 - val_loss: 1836.0046\n",
            "Epoch 17/100\n",
            "833/833 [==============================] - 1s 1ms/step - loss: 1788.2898 - val_loss: 1836.0940\n",
            "Epoch 18/100\n",
            "833/833 [==============================] - 1s 1ms/step - loss: 1786.9550 - val_loss: 1834.0216\n",
            "Epoch 19/100\n",
            "833/833 [==============================] - 1s 1ms/step - loss: 1785.9719 - val_loss: 1834.2753\n",
            "Epoch 20/100\n",
            "833/833 [==============================] - 1s 1ms/step - loss: 1784.8164 - val_loss: 1833.6947\n",
            "Epoch 21/100\n",
            "833/833 [==============================] - 1s 1ms/step - loss: 1783.8193 - val_loss: 1833.1469\n",
            "Epoch 22/100\n",
            "833/833 [==============================] - 1s 1ms/step - loss: 1783.6523 - val_loss: 1833.5226\n",
            "Epoch 23/100\n",
            "833/833 [==============================] - 1s 1ms/step - loss: 1782.1670 - val_loss: 1831.0536\n",
            "Epoch 24/100\n",
            "833/833 [==============================] - 1s 1ms/step - loss: 1781.7412 - val_loss: 1830.3611\n",
            "Epoch 25/100\n",
            "833/833 [==============================] - 1s 1ms/step - loss: 1781.0245 - val_loss: 1834.0992\n",
            "Epoch 26/100\n",
            "833/833 [==============================] - 1s 1ms/step - loss: 1780.5608 - val_loss: 1832.1030\n",
            "Epoch 27/100\n",
            "833/833 [==============================] - 1s 1ms/step - loss: 1779.5865 - val_loss: 1831.3157\n",
            "Epoch 28/100\n",
            "833/833 [==============================] - 1s 1ms/step - loss: 1779.2032 - val_loss: 1831.2732\n",
            "Epoch 29/100\n",
            "833/833 [==============================] - 1s 1ms/step - loss: 1778.4767 - val_loss: 1831.1189\n",
            "Epoch 30/100\n",
            "833/833 [==============================] - 1s 1ms/step - loss: 1778.0842 - val_loss: 1830.9620\n",
            "Epoch 31/100\n",
            "833/833 [==============================] - 1s 1ms/step - loss: 1777.4354 - val_loss: 1831.5813\n",
            "Epoch 32/100\n",
            "833/833 [==============================] - 1s 1ms/step - loss: 1777.5425 - val_loss: 1832.5684\n",
            "Epoch 33/100\n",
            "833/833 [==============================] - 1s 1ms/step - loss: 1777.4878 - val_loss: 1831.0328\n",
            "Epoch 34/100\n",
            "833/833 [==============================] - 1s 1ms/step - loss: 1776.6781 - val_loss: 1829.7942\n",
            "Epoch 35/100\n",
            "833/833 [==============================] - 1s 1ms/step - loss: 1776.1605 - val_loss: 1830.6368\n",
            "Epoch 36/100\n",
            "833/833 [==============================] - 1s 1ms/step - loss: 1775.9034 - val_loss: 1829.8749\n",
            "Epoch 37/100\n",
            "833/833 [==============================] - 1s 1ms/step - loss: 1775.3811 - val_loss: 1831.7281\n",
            "Epoch 38/100\n",
            "833/833 [==============================] - 1s 1ms/step - loss: 1775.3503 - val_loss: 1831.9263\n",
            "Epoch 39/100\n",
            "833/833 [==============================] - 1s 1ms/step - loss: 1774.9161 - val_loss: 1830.2007\n",
            "Epoch 40/100\n",
            "833/833 [==============================] - 1s 1ms/step - loss: 1774.5858 - val_loss: 1830.2223\n",
            "Epoch 41/100\n",
            "833/833 [==============================] - 1s 1ms/step - loss: 1774.5426 - val_loss: 1830.7468\n",
            "Epoch 42/100\n",
            "833/833 [==============================] - 1s 1ms/step - loss: 1773.9119 - val_loss: 1829.7111\n",
            "Epoch 43/100\n",
            "833/833 [==============================] - 1s 1ms/step - loss: 1774.0813 - val_loss: 1831.0128\n",
            "Epoch 44/100\n",
            "833/833 [==============================] - 1s 1ms/step - loss: 1773.3160 - val_loss: 1835.0853\n",
            "Epoch 45/100\n",
            "833/833 [==============================] - 1s 1ms/step - loss: 1773.5514 - val_loss: 1830.7145\n",
            "Epoch 46/100\n",
            "833/833 [==============================] - 1s 1ms/step - loss: 1773.3070 - val_loss: 1833.0906\n",
            "Epoch 47/100\n",
            "833/833 [==============================] - 1s 1ms/step - loss: 1773.2732 - val_loss: 1830.7999\n",
            "Epoch 48/100\n",
            "833/833 [==============================] - 1s 1ms/step - loss: 1772.5806 - val_loss: 1832.9507\n",
            "Epoch 49/100\n",
            "833/833 [==============================] - 1s 1ms/step - loss: 1773.3889 - val_loss: 1830.7811\n",
            "Epoch 50/100\n",
            "833/833 [==============================] - 1s 1ms/step - loss: 1772.6123 - val_loss: 1832.4829\n",
            "Epoch 51/100\n",
            "833/833 [==============================] - 1s 1ms/step - loss: 1772.8043 - val_loss: 1830.0979\n",
            "Epoch 52/100\n",
            "833/833 [==============================] - 1s 2ms/step - loss: 1771.9741 - val_loss: 1832.2047\n",
            "Epoch 53/100\n",
            "833/833 [==============================] - 1s 2ms/step - loss: 1772.2347 - val_loss: 1831.0939\n",
            "Epoch 54/100\n",
            "833/833 [==============================] - 1s 2ms/step - loss: 1772.1610 - val_loss: 1833.1853\n",
            "Epoch 55/100\n",
            "833/833 [==============================] - 1s 1ms/step - loss: 1771.5177 - val_loss: 1833.4276\n",
            "Epoch 56/100\n",
            "833/833 [==============================] - 1s 1ms/step - loss: 1771.5831 - val_loss: 1830.3232\n",
            "Epoch 57/100\n",
            "833/833 [==============================] - 1s 1ms/step - loss: 1771.8285 - val_loss: 1831.3164\n",
            "Epoch 58/100\n",
            "833/833 [==============================] - 1s 1ms/step - loss: 1771.5741 - val_loss: 1831.7579\n",
            "Epoch 59/100\n",
            "833/833 [==============================] - 1s 1ms/step - loss: 1771.2147 - val_loss: 1831.0891\n",
            "Epoch 60/100\n",
            "833/833 [==============================] - 1s 1ms/step - loss: 1770.9331 - val_loss: 1832.4067\n",
            "Epoch 61/100\n",
            "833/833 [==============================] - 1s 1ms/step - loss: 1771.1683 - val_loss: 1831.5165\n",
            "Epoch 62/100\n",
            "833/833 [==============================] - 1s 1ms/step - loss: 1770.6725 - val_loss: 1830.4662\n",
            "Epoch 63/100\n",
            "833/833 [==============================] - 1s 1ms/step - loss: 1770.7609 - val_loss: 1831.1340\n",
            "Epoch 64/100\n",
            "833/833 [==============================] - 1s 1ms/step - loss: 1770.5247 - val_loss: 1832.9005\n",
            "Epoch 65/100\n",
            "833/833 [==============================] - 1s 1ms/step - loss: 1770.0823 - val_loss: 1831.6691\n",
            "Epoch 66/100\n",
            "833/833 [==============================] - 1s 1ms/step - loss: 1770.6428 - val_loss: 1831.4487\n",
            "Epoch 67/100\n",
            "833/833 [==============================] - 1s 1ms/step - loss: 1769.9969 - val_loss: 1833.0304\n",
            "Epoch 68/100\n",
            "833/833 [==============================] - 1s 1ms/step - loss: 1769.8489 - val_loss: 1831.4180\n",
            "Epoch 69/100\n",
            "833/833 [==============================] - 1s 1ms/step - loss: 1770.0588 - val_loss: 1832.9745\n",
            "Epoch 70/100\n",
            "833/833 [==============================] - 1s 1ms/step - loss: 1769.9349 - val_loss: 1833.7271\n",
            "Epoch 71/100\n",
            "833/833 [==============================] - 1s 1ms/step - loss: 1769.2113 - val_loss: 1831.0607\n",
            "Epoch 72/100\n",
            "833/833 [==============================] - 1s 1ms/step - loss: 1769.8917 - val_loss: 1831.8281\n",
            "Epoch 73/100\n",
            "833/833 [==============================] - 1s 1ms/step - loss: 1769.6069 - val_loss: 1831.6299\n",
            "Epoch 74/100\n",
            "833/833 [==============================] - 1s 1ms/step - loss: 1769.2820 - val_loss: 1831.4240\n",
            "Epoch 75/100\n",
            "833/833 [==============================] - 1s 1ms/step - loss: 1769.1167 - val_loss: 1831.1191\n",
            "Epoch 76/100\n",
            "833/833 [==============================] - 1s 1ms/step - loss: 1768.8882 - val_loss: 1832.6317\n",
            "Epoch 77/100\n",
            "833/833 [==============================] - 1s 1ms/step - loss: 1768.9128 - val_loss: 1834.3231\n",
            "Epoch 78/100\n",
            "833/833 [==============================] - 1s 1ms/step - loss: 1768.7882 - val_loss: 1832.3772\n",
            "Epoch 79/100\n",
            "833/833 [==============================] - 1s 1ms/step - loss: 1768.6821 - val_loss: 1833.8499\n",
            "Epoch 80/100\n",
            "833/833 [==============================] - 1s 1ms/step - loss: 1768.5785 - val_loss: 1830.4056\n",
            "Epoch 81/100\n",
            "833/833 [==============================] - 1s 1ms/step - loss: 1768.5719 - val_loss: 1832.4554\n",
            "Epoch 82/100\n",
            "833/833 [==============================] - 1s 1ms/step - loss: 1768.2994 - val_loss: 1831.1420\n",
            "Epoch 83/100\n",
            "833/833 [==============================] - 1s 1ms/step - loss: 1768.5154 - val_loss: 1833.7920\n",
            "Epoch 84/100\n",
            "833/833 [==============================] - 1s 1ms/step - loss: 1768.4352 - val_loss: 1831.9778\n",
            "Epoch 85/100\n",
            "833/833 [==============================] - 1s 1ms/step - loss: 1768.0897 - val_loss: 1831.6562\n",
            "Epoch 86/100\n",
            "833/833 [==============================] - 1s 1ms/step - loss: 1767.7186 - val_loss: 1834.2479\n",
            "Epoch 87/100\n",
            "833/833 [==============================] - 1s 1ms/step - loss: 1767.7042 - val_loss: 1832.9878\n",
            "Epoch 88/100\n",
            "833/833 [==============================] - 1s 1ms/step - loss: 1767.8835 - val_loss: 1833.1960\n",
            "Epoch 89/100\n",
            "833/833 [==============================] - 1s 1ms/step - loss: 1767.5601 - val_loss: 1832.7692\n",
            "Epoch 90/100\n",
            "833/833 [==============================] - 1s 1ms/step - loss: 1767.8630 - val_loss: 1831.5216\n",
            "Epoch 91/100\n",
            "833/833 [==============================] - 1s 1ms/step - loss: 1767.4326 - val_loss: 1832.1025\n",
            "Epoch 92/100\n",
            "833/833 [==============================] - 1s 1ms/step - loss: 1767.1353 - val_loss: 1831.2733\n",
            "Epoch 93/100\n",
            "833/833 [==============================] - 1s 1ms/step - loss: 1767.5183 - val_loss: 1832.3162\n",
            "Epoch 94/100\n",
            "833/833 [==============================] - 1s 1ms/step - loss: 1767.0184 - val_loss: 1832.9993\n",
            "Epoch 95/100\n",
            "833/833 [==============================] - 1s 1ms/step - loss: 1766.9459 - val_loss: 1832.1896\n",
            "Epoch 96/100\n",
            "833/833 [==============================] - 1s 1ms/step - loss: 1766.6718 - val_loss: 1832.5475\n",
            "Epoch 97/100\n",
            "833/833 [==============================] - 1s 1ms/step - loss: 1766.7269 - val_loss: 1833.6304\n",
            "Epoch 98/100\n",
            "833/833 [==============================] - 1s 1ms/step - loss: 1766.7823 - val_loss: 1833.2081\n",
            "Epoch 99/100\n",
            "833/833 [==============================] - 1s 1ms/step - loss: 1766.5116 - val_loss: 1832.2321\n",
            "Epoch 100/100\n",
            "833/833 [==============================] - 1s 1ms/step - loss: 1766.3136 - val_loss: 1832.8098\n",
            "CPU times: user 2min 18s, sys: 13 s, total: 2min 31s\n",
            "Wall time: 1min 55s\n"
          ],
          "name": "stdout"
        }
      ]
    },
    {
      "cell_type": "code",
      "metadata": {
        "id": "qtlMHcoU4K6c",
        "outputId": "18e2298c-5f67-4467-f3ed-01771d9cdae1",
        "colab": {
          "base_uri": "https://localhost:8080/",
          "height": 279
        }
      },
      "source": [
        "plot_loss(history)"
      ],
      "execution_count": 103,
      "outputs": [
        {
          "output_type": "display_data",
          "data": {
            "image/png": "[encoded data removed]",
            "text/plain": [
              "<Figure size 432x288 with 1 Axes>"
            ]
          },
          "metadata": {
            "tags": [],
            "needs_background": "light"
          }
        }
      ]
    },
    {
      "cell_type": "code",
      "metadata": {
        "id": "esL3_VOd4QDW"
      },
      "source": [
        "test_results['dnn_model'] = dnn_model.evaluate(test_features, test_labels, verbose=0)\n"
      ],
      "execution_count": 104,
      "outputs": []
    },
    {
      "cell_type": "code",
      "metadata": {
        "id": "o2uiCRxU7FaV"
      },
      "source": [
        "get = dnn_model.evaluate(train_features, train_labels, verbose=0)"
      ],
      "execution_count": 121,
      "outputs": []
    },
    {
      "cell_type": "code",
      "metadata": {
        "id": "lx3gFORB7MWj",
        "outputId": "631bd94e-adb4-455f-eeaf-c37e9a6d4d25",
        "colab": {
          "base_uri": "https://localhost:8080/"
        }
      },
      "source": [
        "test_predictions"
      ],
      "execution_count": 123,
      "outputs": [
        {
          "output_type": "execute_result",
          "data": {
            "text/plain": [
              "array([-1009.934, -4108.929, -4500.934, ..., -1211.465, -2265.092,\n",
              "       -1862.769], dtype=float32)"
            ]
          },
          "metadata": {
            "tags": []
          },
          "execution_count": 123
        }
      ]
    },
    {
      "cell_type": "code",
      "metadata": {
        "id": "d46A-Ia57xZo"
      },
      "source": [
        "train_predictions = dnn_model.predict(train_features).flatten()\n"
      ],
      "execution_count": 125,
      "outputs": []
    },
    {
      "cell_type": "code",
      "metadata": {
        "id": "GsZ6Joey8YO8"
      },
      "source": [
        ""
      ],
      "execution_count": 129,
      "outputs": []
    },
    {
      "cell_type": "code",
      "metadata": {
        "id": "gjHMjVPI74i-"
      },
      "source": [
        "mle = statistics.mean(abs(train_labels-train_predictions))"
      ],
      "execution_count": 130,
      "outputs": []
    },
    {
      "cell_type": "code",
      "metadata": {
        "id": "81fdvA_E8av_",
        "outputId": "901964c6-8483-48f1-e3b5-d3833115512f",
        "colab": {
          "base_uri": "https://localhost:8080/"
        }
      },
      "source": [
        "mle"
      ],
      "execution_count": 131,
      "outputs": [
        {
          "output_type": "execute_result",
          "data": {
            "text/plain": [
              "1775.2100879447087"
            ]
          },
          "metadata": {
            "tags": []
          },
          "execution_count": 131
        }
      ]
    },
    {
      "cell_type": "code",
      "metadata": {
        "id": "q69YKCgQ8btB"
      },
      "source": [
        "mle2 = statistics.mean(abs(test_labels-test_predictions))"
      ],
      "execution_count": 132,
      "outputs": []
    },
    {
      "cell_type": "code",
      "metadata": {
        "id": "gKVmz7vS8fgK",
        "outputId": "b12124be-1a28-463f-c7c9-c97f09f24d89",
        "colab": {
          "base_uri": "https://localhost:8080/"
        }
      },
      "source": [
        "mle2"
      ],
      "execution_count": 133,
      "outputs": [
        {
          "output_type": "execute_result",
          "data": {
            "text/plain": [
              "1850.7098438266148"
            ]
          },
          "metadata": {
            "tags": []
          },
          "execution_count": 133
        }
      ]
    },
    {
      "cell_type": "code",
      "metadata": {
        "id": "Z1blTy7M4SUk",
        "outputId": "c87bc4ed-28ad-4509-b71f-baf003e8036f",
        "colab": {
          "base_uri": "https://localhost:8080/",
          "height": 143
        }
      },
      "source": [
        "pd.DataFrame(test_results, index=['Mean absolute error [MPG]']).T"
      ],
      "execution_count": 105,
      "outputs": [
        {
          "output_type": "execute_result",
          "data": {
            "text/html": [
              "<div>\n",
              "<style scoped>\n",
              "    .dataframe tbody tr th:only-of-type {\n",
              "        vertical-align: middle;\n",
              "    }\n",
              "\n",
              "    .dataframe tbody tr th {\n",
              "        vertical-align: top;\n",
              "    }\n",
              "\n",
              "    .dataframe thead th {\n",
              "        text-align: right;\n",
              "    }\n",
              "</style>\n",
              "<table border=\"1\" class=\"dataframe\">\n",
              "  <thead>\n",
              "    <tr style=\"text-align: right;\">\n",
              "      <th></th>\n",
              "      <th>Mean absolute error [MPG]</th>\n",
              "    </tr>\n",
              "  </thead>\n",
              "  <tbody>\n",
              "    <tr>\n",
              "      <th>horsepower_model</th>\n",
              "      <td>2128.336182</td>\n",
              "    </tr>\n",
              "    <tr>\n",
              "      <th>dnn_horsepower_model</th>\n",
              "      <td>2132.708496</td>\n",
              "    </tr>\n",
              "    <tr>\n",
              "      <th>dnn_model</th>\n",
              "      <td>1850.709839</td>\n",
              "    </tr>\n",
              "  </tbody>\n",
              "</table>\n",
              "</div>"
            ],
            "text/plain": [
              "                      Mean absolute error [MPG]\n",
              "horsepower_model                    2128.336182\n",
              "dnn_horsepower_model                2132.708496\n",
              "dnn_model                           1850.709839"
            ]
          },
          "metadata": {
            "tags": []
          },
          "execution_count": 105
        }
      ]
    },
    {
      "cell_type": "code",
      "metadata": {
        "id": "c_gzKzfD4-Po",
        "outputId": "3444baf6-28a1-4f03-b1de-e2eef090d491",
        "colab": {
          "base_uri": "https://localhost:8080/",
          "height": 253
        }
      },
      "source": [
        "test_predictions = dnn_model.predict(test_features).flatten()\n",
        "\n",
        "a = plt.axes(aspect='equal')\n",
        "plt.scatter(test_labels, test_predictions)\n",
        "plt.xlabel('True Values [MPG]')\n",
        "plt.ylabel('Predictions [MPG]')\n",
        "_ = plt.plot(lims, lims)\n"
      ],
      "execution_count": 108,
      "outputs": [
        {
          "output_type": "display_data",
          "data": {
            "image/png": "[encoded data removed]",
            "text/plain": [
              "<Figure size 432x288 with 1 Axes>"
            ]
          },
          "metadata": {
            "tags": [],
            "needs_background": "light"
          }
        }
      ]
    },
    {
      "cell_type": "code",
      "metadata": {
        "id": "-doOOJpw5LQN",
        "outputId": "6a6a5e34-9a97-4813-8d8f-c91ad515ce87",
        "colab": {
          "base_uri": "https://localhost:8080/",
          "height": 279
        }
      },
      "source": [
        "error = test_predictions - test_labels\n",
        "plt.hist(error, bins=25)\n",
        "plt.xlabel('Prediction Error [MPG]')\n",
        "_ = plt.ylabel('Count')\n"
      ],
      "execution_count": 109,
      "outputs": [
        {
          "output_type": "display_data",
          "data": {
            "image/png": "[encoded data removed]",
            "text/plain": [
              "<Figure size 432x288 with 1 Axes>"
            ]
          },
          "metadata": {
            "tags": [],
            "needs_background": "light"
          }
        }
      ]
    },
    {
      "cell_type": "code",
      "metadata": {
        "id": "4orJetPS_dRb",
        "outputId": "da126f5a-6419-42d9-a659-67fa0cd56e5f",
        "colab": {
          "base_uri": "https://localhost:8080/"
        }
      },
      "source": [
        "model_type = \"deep_neural_network\"\n",
        "print(model_type)\n",
        "for cat in list(client_table_tot.merchant_category.unique()):\n",
        "\n",
        "\n",
        "    category_df = client_table_tot_keras[client_table_tot[\"merchant_category\"] == cat]\n",
        "    X = category_df.drop([\"amount_x\"], axis = 1)\n",
        "    y = category_df[\"amount_x\"]\n",
        "    \n",
        "    # Note the difference in argument order\n",
        "    normalizer = preprocessing.Normalization()\n",
        "\n",
        "\n",
        "    normalizer.adapt(np.array(X))\n",
        "\n",
        "    dnn_model = build_and_compile_model(normalizer)\n",
        "    history = dnn_model.fit(\n",
        "    X, y,\n",
        "    validation_split=0.2,\n",
        "    verbose=0, epochs=20)\n",
        "    \n",
        "    dnn_model.save(f'../content/drive/My Drive/CS_HACKATHON/dnn/{model_type}_{cat}')\n",
        "\n",
        "    predictions = dnn_model.predict(X) # make the predictions by the model\n",
        "    # Print out the statistics\n",
        "    print(cat, sklearn.metrics.mean_absolute_error(y, predictions))\n",
        "\n"
      ],
      "execution_count": 154,
      "outputs": [
        {
          "output_type": "stream",
          "text": [
            "deep_neural_network\n",
            "INFO:tensorflow:Assets written to: ../content/drive/My Drive/CS_HACKATHON/dnn/deep_neural_network_Atm/assets\n",
            "Atm 27609.898492628203\n",
            "INFO:tensorflow:Assets written to: ../content/drive/My Drive/CS_HACKATHON/dnn/deep_neural_network_Beauty/assets\n",
            "Beauty 2139.3647921896486\n",
            "INFO:tensorflow:Assets written to: ../content/drive/My Drive/CS_HACKATHON/dnn/deep_neural_network_Car/assets\n",
            "Car 8254.364772600424\n",
            "INFO:tensorflow:Assets written to: ../content/drive/My Drive/CS_HACKATHON/dnn/deep_neural_network_Children/assets\n",
            "Children 1311.3159602402827\n",
            "INFO:tensorflow:Assets written to: ../content/drive/My Drive/CS_HACKATHON/dnn/deep_neural_network_Consumer Goods/assets\n",
            "Consumer Goods 2562.046200214084\n",
            "INFO:tensorflow:Assets written to: ../content/drive/My Drive/CS_HACKATHON/dnn/deep_neural_network_Digital Services/assets\n",
            "Digital Services 4924.39707455627\n",
            "INFO:tensorflow:Assets written to: ../content/drive/My Drive/CS_HACKATHON/dnn/deep_neural_network_Drugstore/assets\n",
            "Drugstore 1832.9062699753822\n",
            "INFO:tensorflow:Assets written to: ../content/drive/My Drive/CS_HACKATHON/dnn/deep_neural_network_Electronics/assets\n",
            "Electronics 5436.344492995932\n",
            "INFO:tensorflow:Assets written to: ../content/drive/My Drive/CS_HACKATHON/dnn/deep_neural_network_Food And Drink/assets\n",
            "Food And Drink 5079.825866486456\n",
            "INFO:tensorflow:Assets written to: ../content/drive/My Drive/CS_HACKATHON/dnn/deep_neural_network_Freetime/assets\n",
            "Freetime 12279.466688847817\n",
            "INFO:tensorflow:Assets written to: ../content/drive/My Drive/CS_HACKATHON/dnn/deep_neural_network_Groceries/assets\n",
            "Groceries 14976.003601447512\n",
            "INFO:tensorflow:Assets written to: ../content/drive/My Drive/CS_HACKATHON/dnn/deep_neural_network_Health/assets\n",
            "Health 1750.5733912047917\n",
            "INFO:tensorflow:Assets written to: ../content/drive/My Drive/CS_HACKATHON/dnn/deep_neural_network_Professional Services/assets\n",
            "Professional Services 4176.082533278028\n",
            "INFO:tensorflow:Assets written to: ../content/drive/My Drive/CS_HACKATHON/dnn/deep_neural_network_Shopping Online/assets\n",
            "Shopping Online 6896.128348521142\n",
            "INFO:tensorflow:Assets written to: ../content/drive/My Drive/CS_HACKATHON/dnn/deep_neural_network_Travel/assets\n",
            "Travel 4635.188051770778\n",
            "INFO:tensorflow:Assets written to: ../content/drive/My Drive/CS_HACKATHON/dnn/deep_neural_network_House And Garden/assets\n",
            "House And Garden 8223.801678671995\n",
            "INFO:tensorflow:Assets written to: ../content/drive/My Drive/CS_HACKATHON/dnn/deep_neural_network_Pets/assets\n",
            "Pets 1600.7655462375471\n",
            "INFO:tensorflow:Assets written to: ../content/drive/My Drive/CS_HACKATHON/dnn/deep_neural_network_Fashion/assets\n",
            "Fashion 6031.9330035326675\n",
            "INFO:tensorflow:Assets written to: ../content/drive/My Drive/CS_HACKATHON/dnn/deep_neural_network_Sport/assets\n",
            "Sport 3519.150940539869\n",
            "INFO:tensorflow:Assets written to: ../content/drive/My Drive/CS_HACKATHON/dnn/deep_neural_network_Bills And Household/assets\n",
            "Bills And Household 1963.544448157343\n",
            "INFO:tensorflow:Assets written to: ../content/drive/My Drive/CS_HACKATHON/dnn/deep_neural_network_Culture/assets\n",
            "Culture 933.7075417752058\n",
            "INFO:tensorflow:Assets written to: ../content/drive/My Drive/CS_HACKATHON/dnn/deep_neural_network_Financial Services/assets\n",
            "Financial Services 15264.919100387733\n"
          ],
          "name": "stdout"
        }
      ]
    },
    {
      "cell_type": "code",
      "metadata": {
        "id": "g7LqSZ_BEp6u",
        "outputId": "eb9ffeb6-af0e-459d-ac5b-751a125c965d",
        "colab": {
          "base_uri": "https://localhost:8080/"
        }
      },
      "source": [
        "\n",
        "dnn_model.save(f'../content/drive/My Drive/CS_HACKATHON/dnn/{model_type}_{cat}')"
      ],
      "execution_count": 153,
      "outputs": [
        {
          "output_type": "stream",
          "text": [
            "INFO:tensorflow:Assets written to: ../content/drive/My Drive/CS_HACKATHON/dnn/deep_neural_network_Atm/assets\n"
          ],
          "name": "stdout"
        }
      ]
    }
  ]
}